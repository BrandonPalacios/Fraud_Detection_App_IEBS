{
  "nbformat": 4,
  "nbformat_minor": 0,
  "metadata": {
    "colab": {
      "provenance": [],
      "gpuType": "T4"
    },
    "kernelspec": {
      "name": "python3",
      "display_name": "Python 3"
    },
    "language_info": {
      "name": "python"
    },
    "accelerator": "GPU"
  },
  "cells": [
    {
      "cell_type": "markdown",
      "source": [
        "![logo-iebs.png](data:image/png;base64,iVBORw0KGgoAAAANSUhEUgAAAVgAAAByBAMAAADkAtSXAAAAHlBMVEVHcExhJIBhJIBhJIBhJIBhJIBhJIBhJIBhJIBhJIAQqBxRAAAACXRSTlMA0G4Qs4joSSkWVNm2AAAFv0lEQVR42u2bzW/bNhjGOUuKtZuDoVl989atmG/q0KXwzfvINt+8dkChW5pkcH3zUHSdb2qRBsit8mw5+m+3II1NUqT4Pq9ZDAX0HpOQ+uXh1/tBCtFYY4011lhjH62FP723I/Xnwcvvp2XVirPHmfqHg9Jlz47uWT//6PcDa7uzp/pff3r7q1z58ZuutY/iKQj7n93JjKjBV/XN/sgosOe1fZwkKGyZzwys8cjVbJW4Yc8dfZzAsCZaN2tZTpyw3zn7+ByGLZeJDptSmvUcsHHX3ccYhtVEEuI1qdXKATunjGoCw6oiiTajVRW2RerjLg6riCT6xFbrWlhaL0UGw0pzhyrJ9YeSGlhqL6c47IohrPIvVmDnxD5uZy0AK82/Nr3RlR02mFI7GeKwzzefvWCNhw4bkjtZ47DbHadLb1TYYeclOPMR2M08aCGNZjZY+iy4nfkQ7D/vv3qINBrbYJF/+QqHXSEnrbY4qrB7QCdLHLa8mToB1ObYBtuHv4zB3gxpBLV5Z4OVvbZiv2rTynLZwu6b7aCqkjJ+z/Yd1rHAyuNzYvTu30q4HQV2aQtdvu3q+5205RTfADGYCiutr4WlwUNtbQ/McZHiYE21FZbaXDEINjTtblafeUFTVj6vcu1ImAg+7J7RM1MtUmUiKCtidVEGBEkIsAPD5lYJSafmJjXKSqORKV7MSuwAe6l0arHt9kZVVjqxesrKON0Fdk758kAZU5KyoQIbEcaPANunjM8nivwkZVvKqRAxp6wNdkGSKaMq21ZgQz+w6Q6wOQl2qCib/V+wdGUjz8qua5rs4cpGFtjeB1d2bt66lqQ1qW5dnQ8OO1KiI5Kyc2Xg2yVlAL3AtlXvm6Js0FVmTlxS/kEvc/YC9w1CLVSdMk8FWFnJ31sTlQ1GWig0qkmE+oSNU83tdysb3Ned7745L82FXX5ptq+7eti5hbU1+bkSi8tx29ljQ5tXGQJLzz5gAeOQmva588IvbM4IxWf0tNwvXmEXOGyOpLpOfMIe47BrKK868Qg7w2GHAspV/ugNdomnPDcuYUxMVGa+YE9x2AWapV/7gp3hsEPDAYyUo9iwC7wAsi2eya4NcSx2gh3vBEsuKsx8wK7wop3iY8XEFPuVD9gxB1Ye1AdozYQPOxEcWDmaDUZ4WZIHm2c8WNnXbk3hecCCLXqCB7umXxcx+fQc2OKJYMKqDvo5OnUYsPk9wYXVshpvp9jUgWGLHzLBh9UCxPZv9EJfPeyRKUj5O7ElQAt6WCPHdK9cTRYU2Ce0II4Q3d53l1V0+9M4z62wdwUIm9NDcYKlelWyDjZPhDdlK0kOgrXcVfEt7HPhT1k9fQRKO3bC9oRHZbXEHMkOnVXx1DBRPCirpTzBedBxZmSEV2Ujo19Sa7GzhJ/i1TSwpkCG3aYa3+2STGYo22bkOLsu2P4OsL6VpcOu/CrbYsA65yypHMpQNsRh207YS3zzJil7iO+zkXPrGuALgaRsiotw6TzBKJcjGMrGJX7YdA3nCH7thKHsBV5LCk1xDXyhh6Fsawpf3ZDunVsvTrqvSjGUrV6Vcm8FqTG8BS+hqaYUmgvyJbTI1e+BJXzXYPtQ+JcJ1vU+7HbfsRV2D+onEayLkxhszwoL3cIt4FB8Ra8sbT6SWGGRy75aVZyeuIqRJgtr+gi5Rq1f7wOGFFGkUwMbojohsHk1zkZSXRVYZB4MUdiryrmPFRV0WGQewIXmnoCHb1gL28LWF+u5Cn2FqZcnKrD0cwG+TT82JYfq7TNzRA8+sdoM6gAXllz90G+lRFU/ZI7MAt7jNWphaWjxi7FngSX+EGhi9nDp9UVp+kAPLqVBHbBGlCTtsuKkPjC4o+fAoBJh9aesD/EmUjoSeCR8bb9iNYXqh/9isG4GPbd697Ws/OfXX+BNrgs8B4aoxPKw/cZrO3qBVGtsD9vf2L9Q9xa+scYaa6yxxj4m+xd0PtOBj5aPMgAAAABJRU5ErkJggg==)\n",
        "\n",
        "# **Global Project - Máster en Data science y Big Data**\n",
        "\n",
        "## **Identificar transacciones fraudulentas de tarjetas de crédito utilizando una Red Neuronal Convolucional.**\n",
        "\n",
        "### **Alumno:** Brandon Uriel Palacios Méndez"
      ],
      "metadata": {
        "id": "dDwSWJdT5obH"
      }
    },
    {
      "cell_type": "markdown",
      "source": [
        "Reconocer transacciones fraudulentas de transacciones legititmas ha sido un desafío para los negocios, se ha convertido en una actividad diaria para todas las empresas, especialmente las tecnológicas.\n",
        "\n",
        "Algunos de los beneficios clave de la detección de fraude son:\n",
        "\n",
        "* **Proteger la reputación del negocio.** Reduce los riesgos impactar en la reputación pública de una empresa.\n",
        "\n",
        "* **Mejorar la satisfacción del cliente.** Proteger la información personal de los clientes.\n",
        "\n",
        "* **Prevenir transacciones no autorizadas.**\n",
        "\n",
        "El objetivo de este análisis es crear un modelo eficiente para la probabilidad de que una transacción pueda ser fraudulenta.\n",
        "\n",
        "El [dataset](https://www.kaggle.com/datasets/sanskar457/fraud-transaction-detection) a utilizar, contiene transacciones de pagos con tarjeta de crédito en diferentes terminales de Europa del periodo de Enero 2023 a Junio 2023."
      ],
      "metadata": {
        "id": "01E3JY-_XU1j"
      }
    },
    {
      "cell_type": "code",
      "execution_count": 1,
      "metadata": {
        "colab": {
          "base_uri": "https://localhost:8080/"
        },
        "id": "FWKAohl95gBp",
        "outputId": "77dea77d-f8f9-470b-a716-673cd709f508"
      },
      "outputs": [
        {
          "output_type": "stream",
          "name": "stdout",
          "text": [
            "2.13.0\n"
          ]
        }
      ],
      "source": [
        "# Importamos las librearias necesarias para la realización del proyecto.\n",
        "import pandas as pd\n",
        "import numpy as np\n",
        "import seaborn as sns\n",
        "import matplotlib.pyplot as plt\n",
        "\n",
        "#Procesamiento de datos\n",
        "from sklearn.model_selection import train_test_split\n",
        "from sklearn.preprocessing import StandardScaler\n",
        "import tensorflow as tf\n",
        "\n",
        "print(tf.__version__)"
      ]
    },
    {
      "cell_type": "markdown",
      "source": [
        "## **Fase 1.** Recolección de datos"
      ],
      "metadata": {
        "id": "rJ3bp5-dv8Dj"
      }
    },
    {
      "cell_type": "code",
      "source": [
        "#Cargamos el dataset desde Kaggle ya que tamaño del archivo es muy grande\n",
        "from google.colab import files\n",
        "!pip install -q kaggle\n",
        "\n",
        "# Subimos kaggle.json con el cliente\n",
        "uploaded = files.upload()"
      ],
      "metadata": {
        "colab": {
          "base_uri": "https://localhost:8080/",
          "height": 73
        },
        "id": "rNx884YOdmOD",
        "outputId": "957de64e-76bd-4763-954e-f17a719e6d04"
      },
      "execution_count": 2,
      "outputs": [
        {
          "output_type": "display_data",
          "data": {
            "text/plain": [
              "<IPython.core.display.HTML object>"
            ],
            "text/html": [
              "\n",
              "     <input type=\"file\" id=\"files-c8cdc732-7605-49df-9462-1f0b0028a484\" name=\"files[]\" multiple disabled\n",
              "        style=\"border:none\" />\n",
              "     <output id=\"result-c8cdc732-7605-49df-9462-1f0b0028a484\">\n",
              "      Upload widget is only available when the cell has been executed in the\n",
              "      current browser session. Please rerun this cell to enable.\n",
              "      </output>\n",
              "      <script>// Copyright 2017 Google LLC\n",
              "//\n",
              "// Licensed under the Apache License, Version 2.0 (the \"License\");\n",
              "// you may not use this file except in compliance with the License.\n",
              "// You may obtain a copy of the License at\n",
              "//\n",
              "//      http://www.apache.org/licenses/LICENSE-2.0\n",
              "//\n",
              "// Unless required by applicable law or agreed to in writing, software\n",
              "// distributed under the License is distributed on an \"AS IS\" BASIS,\n",
              "// WITHOUT WARRANTIES OR CONDITIONS OF ANY KIND, either express or implied.\n",
              "// See the License for the specific language governing permissions and\n",
              "// limitations under the License.\n",
              "\n",
              "/**\n",
              " * @fileoverview Helpers for google.colab Python module.\n",
              " */\n",
              "(function(scope) {\n",
              "function span(text, styleAttributes = {}) {\n",
              "  const element = document.createElement('span');\n",
              "  element.textContent = text;\n",
              "  for (const key of Object.keys(styleAttributes)) {\n",
              "    element.style[key] = styleAttributes[key];\n",
              "  }\n",
              "  return element;\n",
              "}\n",
              "\n",
              "// Max number of bytes which will be uploaded at a time.\n",
              "const MAX_PAYLOAD_SIZE = 100 * 1024;\n",
              "\n",
              "function _uploadFiles(inputId, outputId) {\n",
              "  const steps = uploadFilesStep(inputId, outputId);\n",
              "  const outputElement = document.getElementById(outputId);\n",
              "  // Cache steps on the outputElement to make it available for the next call\n",
              "  // to uploadFilesContinue from Python.\n",
              "  outputElement.steps = steps;\n",
              "\n",
              "  return _uploadFilesContinue(outputId);\n",
              "}\n",
              "\n",
              "// This is roughly an async generator (not supported in the browser yet),\n",
              "// where there are multiple asynchronous steps and the Python side is going\n",
              "// to poll for completion of each step.\n",
              "// This uses a Promise to block the python side on completion of each step,\n",
              "// then passes the result of the previous step as the input to the next step.\n",
              "function _uploadFilesContinue(outputId) {\n",
              "  const outputElement = document.getElementById(outputId);\n",
              "  const steps = outputElement.steps;\n",
              "\n",
              "  const next = steps.next(outputElement.lastPromiseValue);\n",
              "  return Promise.resolve(next.value.promise).then((value) => {\n",
              "    // Cache the last promise value to make it available to the next\n",
              "    // step of the generator.\n",
              "    outputElement.lastPromiseValue = value;\n",
              "    return next.value.response;\n",
              "  });\n",
              "}\n",
              "\n",
              "/**\n",
              " * Generator function which is called between each async step of the upload\n",
              " * process.\n",
              " * @param {string} inputId Element ID of the input file picker element.\n",
              " * @param {string} outputId Element ID of the output display.\n",
              " * @return {!Iterable<!Object>} Iterable of next steps.\n",
              " */\n",
              "function* uploadFilesStep(inputId, outputId) {\n",
              "  const inputElement = document.getElementById(inputId);\n",
              "  inputElement.disabled = false;\n",
              "\n",
              "  const outputElement = document.getElementById(outputId);\n",
              "  outputElement.innerHTML = '';\n",
              "\n",
              "  const pickedPromise = new Promise((resolve) => {\n",
              "    inputElement.addEventListener('change', (e) => {\n",
              "      resolve(e.target.files);\n",
              "    });\n",
              "  });\n",
              "\n",
              "  const cancel = document.createElement('button');\n",
              "  inputElement.parentElement.appendChild(cancel);\n",
              "  cancel.textContent = 'Cancel upload';\n",
              "  const cancelPromise = new Promise((resolve) => {\n",
              "    cancel.onclick = () => {\n",
              "      resolve(null);\n",
              "    };\n",
              "  });\n",
              "\n",
              "  // Wait for the user to pick the files.\n",
              "  const files = yield {\n",
              "    promise: Promise.race([pickedPromise, cancelPromise]),\n",
              "    response: {\n",
              "      action: 'starting',\n",
              "    }\n",
              "  };\n",
              "\n",
              "  cancel.remove();\n",
              "\n",
              "  // Disable the input element since further picks are not allowed.\n",
              "  inputElement.disabled = true;\n",
              "\n",
              "  if (!files) {\n",
              "    return {\n",
              "      response: {\n",
              "        action: 'complete',\n",
              "      }\n",
              "    };\n",
              "  }\n",
              "\n",
              "  for (const file of files) {\n",
              "    const li = document.createElement('li');\n",
              "    li.append(span(file.name, {fontWeight: 'bold'}));\n",
              "    li.append(span(\n",
              "        `(${file.type || 'n/a'}) - ${file.size} bytes, ` +\n",
              "        `last modified: ${\n",
              "            file.lastModifiedDate ? file.lastModifiedDate.toLocaleDateString() :\n",
              "                                    'n/a'} - `));\n",
              "    const percent = span('0% done');\n",
              "    li.appendChild(percent);\n",
              "\n",
              "    outputElement.appendChild(li);\n",
              "\n",
              "    const fileDataPromise = new Promise((resolve) => {\n",
              "      const reader = new FileReader();\n",
              "      reader.onload = (e) => {\n",
              "        resolve(e.target.result);\n",
              "      };\n",
              "      reader.readAsArrayBuffer(file);\n",
              "    });\n",
              "    // Wait for the data to be ready.\n",
              "    let fileData = yield {\n",
              "      promise: fileDataPromise,\n",
              "      response: {\n",
              "        action: 'continue',\n",
              "      }\n",
              "    };\n",
              "\n",
              "    // Use a chunked sending to avoid message size limits. See b/62115660.\n",
              "    let position = 0;\n",
              "    do {\n",
              "      const length = Math.min(fileData.byteLength - position, MAX_PAYLOAD_SIZE);\n",
              "      const chunk = new Uint8Array(fileData, position, length);\n",
              "      position += length;\n",
              "\n",
              "      const base64 = btoa(String.fromCharCode.apply(null, chunk));\n",
              "      yield {\n",
              "        response: {\n",
              "          action: 'append',\n",
              "          file: file.name,\n",
              "          data: base64,\n",
              "        },\n",
              "      };\n",
              "\n",
              "      let percentDone = fileData.byteLength === 0 ?\n",
              "          100 :\n",
              "          Math.round((position / fileData.byteLength) * 100);\n",
              "      percent.textContent = `${percentDone}% done`;\n",
              "\n",
              "    } while (position < fileData.byteLength);\n",
              "  }\n",
              "\n",
              "  // All done.\n",
              "  yield {\n",
              "    response: {\n",
              "      action: 'complete',\n",
              "    }\n",
              "  };\n",
              "}\n",
              "\n",
              "scope.google = scope.google || {};\n",
              "scope.google.colab = scope.google.colab || {};\n",
              "scope.google.colab._files = {\n",
              "  _uploadFiles,\n",
              "  _uploadFilesContinue,\n",
              "};\n",
              "})(self);\n",
              "</script> "
            ]
          },
          "metadata": {}
        },
        {
          "output_type": "stream",
          "name": "stdout",
          "text": [
            "Saving kaggle.json to kaggle.json\n"
          ]
        }
      ]
    },
    {
      "cell_type": "code",
      "source": [
        "# Movemos el archivo a la ubicación correcta.\n",
        "!mv kaggle.json /root/.kaggle/kaggle.json"
      ],
      "metadata": {
        "id": "c9zoR-orsRU3"
      },
      "execution_count": 5,
      "outputs": []
    },
    {
      "cell_type": "code",
      "source": [
        "# Descargamos dataset\n",
        "!kaggle datasets download -d sanskar457/fraud-transaction-detection"
      ],
      "metadata": {
        "colab": {
          "base_uri": "https://localhost:8080/"
        },
        "id": "YtljzhZZsW8s",
        "outputId": "36b54f86-7d99-4da5-9580-3f1bcebf7b88"
      },
      "execution_count": 6,
      "outputs": [
        {
          "output_type": "stream",
          "name": "stdout",
          "text": [
            "Warning: Your Kaggle API key is readable by other users on this system! To fix this, you can run 'chmod 600 /root/.kaggle/kaggle.json'\n",
            "Downloading fraud-transaction-detection.zip to /content\n",
            " 97% 33.0M/34.0M [00:02<00:00, 19.0MB/s]\n",
            "100% 34.0M/34.0M [00:02<00:00, 12.8MB/s]\n"
          ]
        }
      ]
    },
    {
      "cell_type": "code",
      "source": [
        "# Descomprimimos el datset\n",
        "!unzip fraud-transaction-detection.zip"
      ],
      "metadata": {
        "colab": {
          "base_uri": "https://localhost:8080/"
        },
        "id": "wohjL45ru3uU",
        "outputId": "5fd5b550-798d-4d60-b33e-131a440804f1"
      },
      "execution_count": 7,
      "outputs": [
        {
          "output_type": "stream",
          "name": "stdout",
          "text": [
            "Archive:  fraud-transaction-detection.zip\n",
            "  inflating: Final Transactions.csv  \n"
          ]
        }
      ]
    },
    {
      "cell_type": "code",
      "source": [
        "# Creamos el dataframe\n",
        "data = pd.read_csv('Final Transactions.csv')\n",
        "data.head()"
      ],
      "metadata": {
        "colab": {
          "base_uri": "https://localhost:8080/",
          "height": 206
        },
        "id": "6rBtY1dqvdhF",
        "outputId": "e4715cdb-35c2-43a0-ac66-fc8365ffe817"
      },
      "execution_count": 8,
      "outputs": [
        {
          "output_type": "execute_result",
          "data": {
            "text/plain": [
              "   Unnamed: 0  TRANSACTION_ID          TX_DATETIME  CUSTOMER_ID  TERMINAL_ID  \\\n",
              "0           0               0  2023-01-01 00:00:31          596         3156   \n",
              "1           1               1  2023-01-01 00:02:10         4961         3412   \n",
              "2           2               2  2023-01-01 00:07:56            2         1365   \n",
              "3           3               3  2023-01-01 00:09:29         4128         8737   \n",
              "4           4               4  2023-01-01 00:10:34          927         9906   \n",
              "\n",
              "   TX_AMOUNT  TX_TIME_SECONDS  TX_TIME_DAYS  TX_FRAUD  TX_FRAUD_SCENARIO  \n",
              "0     533.07               31             0         0                  0  \n",
              "1     808.56              130             0         0                  0  \n",
              "2    1442.94              476             0         1                  1  \n",
              "3     620.65              569             0         0                  0  \n",
              "4     490.66              634             0         0                  0  "
            ],
            "text/html": [
              "\n",
              "  <div id=\"df-81338cbb-df84-4591-9928-83951aad589c\" class=\"colab-df-container\">\n",
              "    <div>\n",
              "<style scoped>\n",
              "    .dataframe tbody tr th:only-of-type {\n",
              "        vertical-align: middle;\n",
              "    }\n",
              "\n",
              "    .dataframe tbody tr th {\n",
              "        vertical-align: top;\n",
              "    }\n",
              "\n",
              "    .dataframe thead th {\n",
              "        text-align: right;\n",
              "    }\n",
              "</style>\n",
              "<table border=\"1\" class=\"dataframe\">\n",
              "  <thead>\n",
              "    <tr style=\"text-align: right;\">\n",
              "      <th></th>\n",
              "      <th>Unnamed: 0</th>\n",
              "      <th>TRANSACTION_ID</th>\n",
              "      <th>TX_DATETIME</th>\n",
              "      <th>CUSTOMER_ID</th>\n",
              "      <th>TERMINAL_ID</th>\n",
              "      <th>TX_AMOUNT</th>\n",
              "      <th>TX_TIME_SECONDS</th>\n",
              "      <th>TX_TIME_DAYS</th>\n",
              "      <th>TX_FRAUD</th>\n",
              "      <th>TX_FRAUD_SCENARIO</th>\n",
              "    </tr>\n",
              "  </thead>\n",
              "  <tbody>\n",
              "    <tr>\n",
              "      <th>0</th>\n",
              "      <td>0</td>\n",
              "      <td>0</td>\n",
              "      <td>2023-01-01 00:00:31</td>\n",
              "      <td>596</td>\n",
              "      <td>3156</td>\n",
              "      <td>533.07</td>\n",
              "      <td>31</td>\n",
              "      <td>0</td>\n",
              "      <td>0</td>\n",
              "      <td>0</td>\n",
              "    </tr>\n",
              "    <tr>\n",
              "      <th>1</th>\n",
              "      <td>1</td>\n",
              "      <td>1</td>\n",
              "      <td>2023-01-01 00:02:10</td>\n",
              "      <td>4961</td>\n",
              "      <td>3412</td>\n",
              "      <td>808.56</td>\n",
              "      <td>130</td>\n",
              "      <td>0</td>\n",
              "      <td>0</td>\n",
              "      <td>0</td>\n",
              "    </tr>\n",
              "    <tr>\n",
              "      <th>2</th>\n",
              "      <td>2</td>\n",
              "      <td>2</td>\n",
              "      <td>2023-01-01 00:07:56</td>\n",
              "      <td>2</td>\n",
              "      <td>1365</td>\n",
              "      <td>1442.94</td>\n",
              "      <td>476</td>\n",
              "      <td>0</td>\n",
              "      <td>1</td>\n",
              "      <td>1</td>\n",
              "    </tr>\n",
              "    <tr>\n",
              "      <th>3</th>\n",
              "      <td>3</td>\n",
              "      <td>3</td>\n",
              "      <td>2023-01-01 00:09:29</td>\n",
              "      <td>4128</td>\n",
              "      <td>8737</td>\n",
              "      <td>620.65</td>\n",
              "      <td>569</td>\n",
              "      <td>0</td>\n",
              "      <td>0</td>\n",
              "      <td>0</td>\n",
              "    </tr>\n",
              "    <tr>\n",
              "      <th>4</th>\n",
              "      <td>4</td>\n",
              "      <td>4</td>\n",
              "      <td>2023-01-01 00:10:34</td>\n",
              "      <td>927</td>\n",
              "      <td>9906</td>\n",
              "      <td>490.66</td>\n",
              "      <td>634</td>\n",
              "      <td>0</td>\n",
              "      <td>0</td>\n",
              "      <td>0</td>\n",
              "    </tr>\n",
              "  </tbody>\n",
              "</table>\n",
              "</div>\n",
              "    <div class=\"colab-df-buttons\">\n",
              "\n",
              "  <div class=\"colab-df-container\">\n",
              "    <button class=\"colab-df-convert\" onclick=\"convertToInteractive('df-81338cbb-df84-4591-9928-83951aad589c')\"\n",
              "            title=\"Convert this dataframe to an interactive table.\"\n",
              "            style=\"display:none;\">\n",
              "\n",
              "  <svg xmlns=\"http://www.w3.org/2000/svg\" height=\"24px\" viewBox=\"0 -960 960 960\">\n",
              "    <path d=\"M120-120v-720h720v720H120Zm60-500h600v-160H180v160Zm220 220h160v-160H400v160Zm0 220h160v-160H400v160ZM180-400h160v-160H180v160Zm440 0h160v-160H620v160ZM180-180h160v-160H180v160Zm440 0h160v-160H620v160Z\"/>\n",
              "  </svg>\n",
              "    </button>\n",
              "\n",
              "  <style>\n",
              "    .colab-df-container {\n",
              "      display:flex;\n",
              "      gap: 12px;\n",
              "    }\n",
              "\n",
              "    .colab-df-convert {\n",
              "      background-color: #E8F0FE;\n",
              "      border: none;\n",
              "      border-radius: 50%;\n",
              "      cursor: pointer;\n",
              "      display: none;\n",
              "      fill: #1967D2;\n",
              "      height: 32px;\n",
              "      padding: 0 0 0 0;\n",
              "      width: 32px;\n",
              "    }\n",
              "\n",
              "    .colab-df-convert:hover {\n",
              "      background-color: #E2EBFA;\n",
              "      box-shadow: 0px 1px 2px rgba(60, 64, 67, 0.3), 0px 1px 3px 1px rgba(60, 64, 67, 0.15);\n",
              "      fill: #174EA6;\n",
              "    }\n",
              "\n",
              "    .colab-df-buttons div {\n",
              "      margin-bottom: 4px;\n",
              "    }\n",
              "\n",
              "    [theme=dark] .colab-df-convert {\n",
              "      background-color: #3B4455;\n",
              "      fill: #D2E3FC;\n",
              "    }\n",
              "\n",
              "    [theme=dark] .colab-df-convert:hover {\n",
              "      background-color: #434B5C;\n",
              "      box-shadow: 0px 1px 3px 1px rgba(0, 0, 0, 0.15);\n",
              "      filter: drop-shadow(0px 1px 2px rgba(0, 0, 0, 0.3));\n",
              "      fill: #FFFFFF;\n",
              "    }\n",
              "  </style>\n",
              "\n",
              "    <script>\n",
              "      const buttonEl =\n",
              "        document.querySelector('#df-81338cbb-df84-4591-9928-83951aad589c button.colab-df-convert');\n",
              "      buttonEl.style.display =\n",
              "        google.colab.kernel.accessAllowed ? 'block' : 'none';\n",
              "\n",
              "      async function convertToInteractive(key) {\n",
              "        const element = document.querySelector('#df-81338cbb-df84-4591-9928-83951aad589c');\n",
              "        const dataTable =\n",
              "          await google.colab.kernel.invokeFunction('convertToInteractive',\n",
              "                                                    [key], {});\n",
              "        if (!dataTable) return;\n",
              "\n",
              "        const docLinkHtml = 'Like what you see? Visit the ' +\n",
              "          '<a target=\"_blank\" href=https://colab.research.google.com/notebooks/data_table.ipynb>data table notebook</a>'\n",
              "          + ' to learn more about interactive tables.';\n",
              "        element.innerHTML = '';\n",
              "        dataTable['output_type'] = 'display_data';\n",
              "        await google.colab.output.renderOutput(dataTable, element);\n",
              "        const docLink = document.createElement('div');\n",
              "        docLink.innerHTML = docLinkHtml;\n",
              "        element.appendChild(docLink);\n",
              "      }\n",
              "    </script>\n",
              "  </div>\n",
              "\n",
              "\n",
              "<div id=\"df-85d738a6-df96-4dc0-b35e-1186774a8d06\">\n",
              "  <button class=\"colab-df-quickchart\" onclick=\"quickchart('df-85d738a6-df96-4dc0-b35e-1186774a8d06')\"\n",
              "            title=\"Suggest charts.\"\n",
              "            style=\"display:none;\">\n",
              "\n",
              "<svg xmlns=\"http://www.w3.org/2000/svg\" height=\"24px\"viewBox=\"0 0 24 24\"\n",
              "     width=\"24px\">\n",
              "    <g>\n",
              "        <path d=\"M19 3H5c-1.1 0-2 .9-2 2v14c0 1.1.9 2 2 2h14c1.1 0 2-.9 2-2V5c0-1.1-.9-2-2-2zM9 17H7v-7h2v7zm4 0h-2V7h2v10zm4 0h-2v-4h2v4z\"/>\n",
              "    </g>\n",
              "</svg>\n",
              "  </button>\n",
              "\n",
              "<style>\n",
              "  .colab-df-quickchart {\n",
              "      --bg-color: #E8F0FE;\n",
              "      --fill-color: #1967D2;\n",
              "      --hover-bg-color: #E2EBFA;\n",
              "      --hover-fill-color: #174EA6;\n",
              "      --disabled-fill-color: #AAA;\n",
              "      --disabled-bg-color: #DDD;\n",
              "  }\n",
              "\n",
              "  [theme=dark] .colab-df-quickchart {\n",
              "      --bg-color: #3B4455;\n",
              "      --fill-color: #D2E3FC;\n",
              "      --hover-bg-color: #434B5C;\n",
              "      --hover-fill-color: #FFFFFF;\n",
              "      --disabled-bg-color: #3B4455;\n",
              "      --disabled-fill-color: #666;\n",
              "  }\n",
              "\n",
              "  .colab-df-quickchart {\n",
              "    background-color: var(--bg-color);\n",
              "    border: none;\n",
              "    border-radius: 50%;\n",
              "    cursor: pointer;\n",
              "    display: none;\n",
              "    fill: var(--fill-color);\n",
              "    height: 32px;\n",
              "    padding: 0;\n",
              "    width: 32px;\n",
              "  }\n",
              "\n",
              "  .colab-df-quickchart:hover {\n",
              "    background-color: var(--hover-bg-color);\n",
              "    box-shadow: 0 1px 2px rgba(60, 64, 67, 0.3), 0 1px 3px 1px rgba(60, 64, 67, 0.15);\n",
              "    fill: var(--button-hover-fill-color);\n",
              "  }\n",
              "\n",
              "  .colab-df-quickchart-complete:disabled,\n",
              "  .colab-df-quickchart-complete:disabled:hover {\n",
              "    background-color: var(--disabled-bg-color);\n",
              "    fill: var(--disabled-fill-color);\n",
              "    box-shadow: none;\n",
              "  }\n",
              "\n",
              "  .colab-df-spinner {\n",
              "    border: 2px solid var(--fill-color);\n",
              "    border-color: transparent;\n",
              "    border-bottom-color: var(--fill-color);\n",
              "    animation:\n",
              "      spin 1s steps(1) infinite;\n",
              "  }\n",
              "\n",
              "  @keyframes spin {\n",
              "    0% {\n",
              "      border-color: transparent;\n",
              "      border-bottom-color: var(--fill-color);\n",
              "      border-left-color: var(--fill-color);\n",
              "    }\n",
              "    20% {\n",
              "      border-color: transparent;\n",
              "      border-left-color: var(--fill-color);\n",
              "      border-top-color: var(--fill-color);\n",
              "    }\n",
              "    30% {\n",
              "      border-color: transparent;\n",
              "      border-left-color: var(--fill-color);\n",
              "      border-top-color: var(--fill-color);\n",
              "      border-right-color: var(--fill-color);\n",
              "    }\n",
              "    40% {\n",
              "      border-color: transparent;\n",
              "      border-right-color: var(--fill-color);\n",
              "      border-top-color: var(--fill-color);\n",
              "    }\n",
              "    60% {\n",
              "      border-color: transparent;\n",
              "      border-right-color: var(--fill-color);\n",
              "    }\n",
              "    80% {\n",
              "      border-color: transparent;\n",
              "      border-right-color: var(--fill-color);\n",
              "      border-bottom-color: var(--fill-color);\n",
              "    }\n",
              "    90% {\n",
              "      border-color: transparent;\n",
              "      border-bottom-color: var(--fill-color);\n",
              "    }\n",
              "  }\n",
              "</style>\n",
              "\n",
              "  <script>\n",
              "    async function quickchart(key) {\n",
              "      const quickchartButtonEl =\n",
              "        document.querySelector('#' + key + ' button');\n",
              "      quickchartButtonEl.disabled = true;  // To prevent multiple clicks.\n",
              "      quickchartButtonEl.classList.add('colab-df-spinner');\n",
              "      try {\n",
              "        const charts = await google.colab.kernel.invokeFunction(\n",
              "            'suggestCharts', [key], {});\n",
              "      } catch (error) {\n",
              "        console.error('Error during call to suggestCharts:', error);\n",
              "      }\n",
              "      quickchartButtonEl.classList.remove('colab-df-spinner');\n",
              "      quickchartButtonEl.classList.add('colab-df-quickchart-complete');\n",
              "    }\n",
              "    (() => {\n",
              "      let quickchartButtonEl =\n",
              "        document.querySelector('#df-85d738a6-df96-4dc0-b35e-1186774a8d06 button');\n",
              "      quickchartButtonEl.style.display =\n",
              "        google.colab.kernel.accessAllowed ? 'block' : 'none';\n",
              "    })();\n",
              "  </script>\n",
              "</div>\n",
              "    </div>\n",
              "  </div>\n"
            ]
          },
          "metadata": {},
          "execution_count": 8
        }
      ]
    },
    {
      "cell_type": "markdown",
      "source": [
        "Podemos observar que solo obtuvimos datos estadísticos de 13 de las 17 columnas del dataframe, lo cuál nos idica que existen variables de tipo Object, lo cual se revisará a continuación."
      ],
      "metadata": {
        "id": "ZCpvK8SO6XDD"
      }
    },
    {
      "cell_type": "markdown",
      "source": [
        "## **Fase 2.** Análisis Exploratorio"
      ],
      "metadata": {
        "id": "FRYDULtMwDHh"
      }
    },
    {
      "cell_type": "code",
      "source": [
        "# Consultamos el tipo de variables del dataset\n",
        "data.dtypes"
      ],
      "metadata": {
        "colab": {
          "base_uri": "https://localhost:8080/"
        },
        "id": "Gy_c0S3VwI5Z",
        "outputId": "324f5092-127d-4e31-fb28-c322e8d238a8"
      },
      "execution_count": 9,
      "outputs": [
        {
          "output_type": "execute_result",
          "data": {
            "text/plain": [
              "Unnamed: 0             int64\n",
              "TRANSACTION_ID         int64\n",
              "TX_DATETIME           object\n",
              "CUSTOMER_ID            int64\n",
              "TERMINAL_ID            int64\n",
              "TX_AMOUNT            float64\n",
              "TX_TIME_SECONDS        int64\n",
              "TX_TIME_DAYS           int64\n",
              "TX_FRAUD               int64\n",
              "TX_FRAUD_SCENARIO      int64\n",
              "dtype: object"
            ]
          },
          "metadata": {},
          "execution_count": 9
        }
      ]
    },
    {
      "cell_type": "code",
      "source": [
        "# Consultamos el número de filas y columnas\n",
        "data.shape"
      ],
      "metadata": {
        "colab": {
          "base_uri": "https://localhost:8080/"
        },
        "id": "wNmZuPoNwcJm",
        "outputId": "c9a40b5d-aa12-44f2-d06f-e7a898702919"
      },
      "execution_count": 10,
      "outputs": [
        {
          "output_type": "execute_result",
          "data": {
            "text/plain": [
              "(1754155, 10)"
            ]
          },
          "metadata": {},
          "execution_count": 10
        }
      ]
    },
    {
      "cell_type": "code",
      "source": [
        "# Consultamos si tenemos celdas sin valor\n",
        "data.isnull().sum()"
      ],
      "metadata": {
        "colab": {
          "base_uri": "https://localhost:8080/"
        },
        "id": "ZVvlUXIewmB9",
        "outputId": "ff1413ef-8b68-4f02-f014-ce4ca8fa5de3"
      },
      "execution_count": 11,
      "outputs": [
        {
          "output_type": "execute_result",
          "data": {
            "text/plain": [
              "Unnamed: 0           0\n",
              "TRANSACTION_ID       0\n",
              "TX_DATETIME          0\n",
              "CUSTOMER_ID          0\n",
              "TERMINAL_ID          0\n",
              "TX_AMOUNT            0\n",
              "TX_TIME_SECONDS      0\n",
              "TX_TIME_DAYS         0\n",
              "TX_FRAUD             0\n",
              "TX_FRAUD_SCENARIO    0\n",
              "dtype: int64"
            ]
          },
          "metadata": {},
          "execution_count": 11
        }
      ]
    },
    {
      "cell_type": "code",
      "source": [
        "# Revisamos el número de valores que tenemos en la variante 'TX_FRAUD',\n",
        "# en la cuál 0, representa que no hubo fraude y 1 representa fraude.\n",
        "data['TX_FRAUD'].value_counts()"
      ],
      "metadata": {
        "colab": {
          "base_uri": "https://localhost:8080/"
        },
        "id": "fGp6TCnHwqcj",
        "outputId": "1bbf4a9d-c259-4c00-a0c5-6f69628be80e"
      },
      "execution_count": 12,
      "outputs": [
        {
          "output_type": "execute_result",
          "data": {
            "text/plain": [
              "0    1518186\n",
              "1     235969\n",
              "Name: TX_FRAUD, dtype: int64"
            ]
          },
          "metadata": {},
          "execution_count": 12
        }
      ]
    },
    {
      "cell_type": "markdown",
      "source": [
        "### Balance del dataset\n",
        "\n",
        "Realizaremos un balance al dataframe con el fin de que el desbalance no afecte el modelo y no tengamos overfitting.\n",
        "\n",
        "Para realizar el balance, se tomará una muestra de datos aleatorios del tamaño de la cantidad de datos que tenemos con fraude."
      ],
      "metadata": {
        "id": "im3xm_u-ZFyr"
      }
    },
    {
      "cell_type": "code",
      "source": [
        "# Creamos 2 variables para separar los datos que contienen datos con fraude y sin fraude\n",
        "no_fraud = data[data['TX_FRAUD']==0]\n",
        "fraud = data[data['TX_FRAUD']==1]"
      ],
      "metadata": {
        "id": "aVBFlW_VZR8G"
      },
      "execution_count": 13,
      "outputs": []
    },
    {
      "cell_type": "code",
      "source": [
        "# Comprobamos el tamaño de ambos df\n",
        "no_fraud.shape, fraud.shape"
      ],
      "metadata": {
        "colab": {
          "base_uri": "https://localhost:8080/"
        },
        "id": "BRCsZSzbZwEM",
        "outputId": "636a5194-23d8-4e0d-8dff-275dfd6aedc0"
      },
      "execution_count": 14,
      "outputs": [
        {
          "output_type": "execute_result",
          "data": {
            "text/plain": [
              "((1518186, 10), (235969, 10))"
            ]
          },
          "metadata": {},
          "execution_count": 14
        }
      ]
    },
    {
      "cell_type": "code",
      "source": [
        "# Tomamos una muestra aleatoria de los datos que no son fraudulentos del mismo tamaño que los fraudulentos.\n",
        "no_fraud = no_fraud.sample(fraud.shape[0])\n",
        "no_fraud.shape"
      ],
      "metadata": {
        "colab": {
          "base_uri": "https://localhost:8080/"
        },
        "id": "VAc_C1weZwZU",
        "outputId": "d4d24846-e747-4423-c1eb-5b195bfcf781"
      },
      "execution_count": 15,
      "outputs": [
        {
          "output_type": "execute_result",
          "data": {
            "text/plain": [
              "(235969, 10)"
            ]
          },
          "metadata": {},
          "execution_count": 15
        }
      ]
    },
    {
      "cell_type": "code",
      "source": [
        "# Unimos ambos df dentro de la variable data\n",
        "data = fraud.append(no_fraud, ignore_index= True)\n",
        "data.sample(10)"
      ],
      "metadata": {
        "colab": {
          "base_uri": "https://localhost:8080/",
          "height": 398
        },
        "id": "uCW_nKct7IYS",
        "outputId": "a492e847-29c3-472d-9f0b-6e605aa2958a"
      },
      "execution_count": 16,
      "outputs": [
        {
          "output_type": "stream",
          "name": "stderr",
          "text": [
            "<ipython-input-16-e2d6c95dddb5>:2: FutureWarning: The frame.append method is deprecated and will be removed from pandas in a future version. Use pandas.concat instead.\n",
            "  data = fraud.append(no_fraud, ignore_index= True)\n"
          ]
        },
        {
          "output_type": "execute_result",
          "data": {
            "text/plain": [
              "        Unnamed: 0  TRANSACTION_ID          TX_DATETIME  CUSTOMER_ID  \\\n",
              "277375       86371           86371  2023-01-10 02:04:41         4116   \n",
              "254146      667341          667341  2023-03-11 13:03:51         2255   \n",
              "409925     1362742         1362742  2023-05-23 06:40:34         1445   \n",
              "57457       431350          431350  2023-02-14 20:46:13         1554   \n",
              "328695      195243          195243  2023-01-21 10:24:43         2134   \n",
              "331007     1213858         1213858  2023-05-07 13:34:12         1249   \n",
              "59254       444783          444783  2023-02-16 09:39:18         2615   \n",
              "386780      276065          276065  2023-01-29 15:50:07           61   \n",
              "243177     1715470         1715470  2023-06-28 20:02:14         4881   \n",
              "169232     1261457         1261457  2023-05-12 12:54:02          699   \n",
              "\n",
              "        TERMINAL_ID  TX_AMOUNT  TX_TIME_SECONDS  TX_TIME_DAYS  TX_FRAUD  \\\n",
              "277375         8070     450.61           785081             9         0   \n",
              "254146         7217     636.14          6008631            69         0   \n",
              "409925         2861     270.94         12292834           142         0   \n",
              "57457          2414    1592.80          3876373            44         1   \n",
              "328695         6596     349.17          1765483            20         0   \n",
              "331007         3456     574.27         10935252           126         0   \n",
              "59254          2211    1355.81          4009158            46         1   \n",
              "386780         4843     872.52          2476207            28         0   \n",
              "243177         6383     484.74         15451334           178         0   \n",
              "169232         4979    1031.59         11364842           131         1   \n",
              "\n",
              "        TX_FRAUD_SCENARIO  \n",
              "277375                  0  \n",
              "254146                  0  \n",
              "409925                  0  \n",
              "57457                   1  \n",
              "328695                  0  \n",
              "331007                  0  \n",
              "59254                   1  \n",
              "386780                  0  \n",
              "243177                  0  \n",
              "169232                  1  "
            ],
            "text/html": [
              "\n",
              "  <div id=\"df-e88fd6e2-6505-4874-9734-e310f0e97e0b\" class=\"colab-df-container\">\n",
              "    <div>\n",
              "<style scoped>\n",
              "    .dataframe tbody tr th:only-of-type {\n",
              "        vertical-align: middle;\n",
              "    }\n",
              "\n",
              "    .dataframe tbody tr th {\n",
              "        vertical-align: top;\n",
              "    }\n",
              "\n",
              "    .dataframe thead th {\n",
              "        text-align: right;\n",
              "    }\n",
              "</style>\n",
              "<table border=\"1\" class=\"dataframe\">\n",
              "  <thead>\n",
              "    <tr style=\"text-align: right;\">\n",
              "      <th></th>\n",
              "      <th>Unnamed: 0</th>\n",
              "      <th>TRANSACTION_ID</th>\n",
              "      <th>TX_DATETIME</th>\n",
              "      <th>CUSTOMER_ID</th>\n",
              "      <th>TERMINAL_ID</th>\n",
              "      <th>TX_AMOUNT</th>\n",
              "      <th>TX_TIME_SECONDS</th>\n",
              "      <th>TX_TIME_DAYS</th>\n",
              "      <th>TX_FRAUD</th>\n",
              "      <th>TX_FRAUD_SCENARIO</th>\n",
              "    </tr>\n",
              "  </thead>\n",
              "  <tbody>\n",
              "    <tr>\n",
              "      <th>277375</th>\n",
              "      <td>86371</td>\n",
              "      <td>86371</td>\n",
              "      <td>2023-01-10 02:04:41</td>\n",
              "      <td>4116</td>\n",
              "      <td>8070</td>\n",
              "      <td>450.61</td>\n",
              "      <td>785081</td>\n",
              "      <td>9</td>\n",
              "      <td>0</td>\n",
              "      <td>0</td>\n",
              "    </tr>\n",
              "    <tr>\n",
              "      <th>254146</th>\n",
              "      <td>667341</td>\n",
              "      <td>667341</td>\n",
              "      <td>2023-03-11 13:03:51</td>\n",
              "      <td>2255</td>\n",
              "      <td>7217</td>\n",
              "      <td>636.14</td>\n",
              "      <td>6008631</td>\n",
              "      <td>69</td>\n",
              "      <td>0</td>\n",
              "      <td>0</td>\n",
              "    </tr>\n",
              "    <tr>\n",
              "      <th>409925</th>\n",
              "      <td>1362742</td>\n",
              "      <td>1362742</td>\n",
              "      <td>2023-05-23 06:40:34</td>\n",
              "      <td>1445</td>\n",
              "      <td>2861</td>\n",
              "      <td>270.94</td>\n",
              "      <td>12292834</td>\n",
              "      <td>142</td>\n",
              "      <td>0</td>\n",
              "      <td>0</td>\n",
              "    </tr>\n",
              "    <tr>\n",
              "      <th>57457</th>\n",
              "      <td>431350</td>\n",
              "      <td>431350</td>\n",
              "      <td>2023-02-14 20:46:13</td>\n",
              "      <td>1554</td>\n",
              "      <td>2414</td>\n",
              "      <td>1592.80</td>\n",
              "      <td>3876373</td>\n",
              "      <td>44</td>\n",
              "      <td>1</td>\n",
              "      <td>1</td>\n",
              "    </tr>\n",
              "    <tr>\n",
              "      <th>328695</th>\n",
              "      <td>195243</td>\n",
              "      <td>195243</td>\n",
              "      <td>2023-01-21 10:24:43</td>\n",
              "      <td>2134</td>\n",
              "      <td>6596</td>\n",
              "      <td>349.17</td>\n",
              "      <td>1765483</td>\n",
              "      <td>20</td>\n",
              "      <td>0</td>\n",
              "      <td>0</td>\n",
              "    </tr>\n",
              "    <tr>\n",
              "      <th>331007</th>\n",
              "      <td>1213858</td>\n",
              "      <td>1213858</td>\n",
              "      <td>2023-05-07 13:34:12</td>\n",
              "      <td>1249</td>\n",
              "      <td>3456</td>\n",
              "      <td>574.27</td>\n",
              "      <td>10935252</td>\n",
              "      <td>126</td>\n",
              "      <td>0</td>\n",
              "      <td>0</td>\n",
              "    </tr>\n",
              "    <tr>\n",
              "      <th>59254</th>\n",
              "      <td>444783</td>\n",
              "      <td>444783</td>\n",
              "      <td>2023-02-16 09:39:18</td>\n",
              "      <td>2615</td>\n",
              "      <td>2211</td>\n",
              "      <td>1355.81</td>\n",
              "      <td>4009158</td>\n",
              "      <td>46</td>\n",
              "      <td>1</td>\n",
              "      <td>1</td>\n",
              "    </tr>\n",
              "    <tr>\n",
              "      <th>386780</th>\n",
              "      <td>276065</td>\n",
              "      <td>276065</td>\n",
              "      <td>2023-01-29 15:50:07</td>\n",
              "      <td>61</td>\n",
              "      <td>4843</td>\n",
              "      <td>872.52</td>\n",
              "      <td>2476207</td>\n",
              "      <td>28</td>\n",
              "      <td>0</td>\n",
              "      <td>0</td>\n",
              "    </tr>\n",
              "    <tr>\n",
              "      <th>243177</th>\n",
              "      <td>1715470</td>\n",
              "      <td>1715470</td>\n",
              "      <td>2023-06-28 20:02:14</td>\n",
              "      <td>4881</td>\n",
              "      <td>6383</td>\n",
              "      <td>484.74</td>\n",
              "      <td>15451334</td>\n",
              "      <td>178</td>\n",
              "      <td>0</td>\n",
              "      <td>0</td>\n",
              "    </tr>\n",
              "    <tr>\n",
              "      <th>169232</th>\n",
              "      <td>1261457</td>\n",
              "      <td>1261457</td>\n",
              "      <td>2023-05-12 12:54:02</td>\n",
              "      <td>699</td>\n",
              "      <td>4979</td>\n",
              "      <td>1031.59</td>\n",
              "      <td>11364842</td>\n",
              "      <td>131</td>\n",
              "      <td>1</td>\n",
              "      <td>1</td>\n",
              "    </tr>\n",
              "  </tbody>\n",
              "</table>\n",
              "</div>\n",
              "    <div class=\"colab-df-buttons\">\n",
              "\n",
              "  <div class=\"colab-df-container\">\n",
              "    <button class=\"colab-df-convert\" onclick=\"convertToInteractive('df-e88fd6e2-6505-4874-9734-e310f0e97e0b')\"\n",
              "            title=\"Convert this dataframe to an interactive table.\"\n",
              "            style=\"display:none;\">\n",
              "\n",
              "  <svg xmlns=\"http://www.w3.org/2000/svg\" height=\"24px\" viewBox=\"0 -960 960 960\">\n",
              "    <path d=\"M120-120v-720h720v720H120Zm60-500h600v-160H180v160Zm220 220h160v-160H400v160Zm0 220h160v-160H400v160ZM180-400h160v-160H180v160Zm440 0h160v-160H620v160ZM180-180h160v-160H180v160Zm440 0h160v-160H620v160Z\"/>\n",
              "  </svg>\n",
              "    </button>\n",
              "\n",
              "  <style>\n",
              "    .colab-df-container {\n",
              "      display:flex;\n",
              "      gap: 12px;\n",
              "    }\n",
              "\n",
              "    .colab-df-convert {\n",
              "      background-color: #E8F0FE;\n",
              "      border: none;\n",
              "      border-radius: 50%;\n",
              "      cursor: pointer;\n",
              "      display: none;\n",
              "      fill: #1967D2;\n",
              "      height: 32px;\n",
              "      padding: 0 0 0 0;\n",
              "      width: 32px;\n",
              "    }\n",
              "\n",
              "    .colab-df-convert:hover {\n",
              "      background-color: #E2EBFA;\n",
              "      box-shadow: 0px 1px 2px rgba(60, 64, 67, 0.3), 0px 1px 3px 1px rgba(60, 64, 67, 0.15);\n",
              "      fill: #174EA6;\n",
              "    }\n",
              "\n",
              "    .colab-df-buttons div {\n",
              "      margin-bottom: 4px;\n",
              "    }\n",
              "\n",
              "    [theme=dark] .colab-df-convert {\n",
              "      background-color: #3B4455;\n",
              "      fill: #D2E3FC;\n",
              "    }\n",
              "\n",
              "    [theme=dark] .colab-df-convert:hover {\n",
              "      background-color: #434B5C;\n",
              "      box-shadow: 0px 1px 3px 1px rgba(0, 0, 0, 0.15);\n",
              "      filter: drop-shadow(0px 1px 2px rgba(0, 0, 0, 0.3));\n",
              "      fill: #FFFFFF;\n",
              "    }\n",
              "  </style>\n",
              "\n",
              "    <script>\n",
              "      const buttonEl =\n",
              "        document.querySelector('#df-e88fd6e2-6505-4874-9734-e310f0e97e0b button.colab-df-convert');\n",
              "      buttonEl.style.display =\n",
              "        google.colab.kernel.accessAllowed ? 'block' : 'none';\n",
              "\n",
              "      async function convertToInteractive(key) {\n",
              "        const element = document.querySelector('#df-e88fd6e2-6505-4874-9734-e310f0e97e0b');\n",
              "        const dataTable =\n",
              "          await google.colab.kernel.invokeFunction('convertToInteractive',\n",
              "                                                    [key], {});\n",
              "        if (!dataTable) return;\n",
              "\n",
              "        const docLinkHtml = 'Like what you see? Visit the ' +\n",
              "          '<a target=\"_blank\" href=https://colab.research.google.com/notebooks/data_table.ipynb>data table notebook</a>'\n",
              "          + ' to learn more about interactive tables.';\n",
              "        element.innerHTML = '';\n",
              "        dataTable['output_type'] = 'display_data';\n",
              "        await google.colab.output.renderOutput(dataTable, element);\n",
              "        const docLink = document.createElement('div');\n",
              "        docLink.innerHTML = docLinkHtml;\n",
              "        element.appendChild(docLink);\n",
              "      }\n",
              "    </script>\n",
              "  </div>\n",
              "\n",
              "\n",
              "<div id=\"df-a02e7f4f-3fb1-4ef2-97f2-285da1d9e959\">\n",
              "  <button class=\"colab-df-quickchart\" onclick=\"quickchart('df-a02e7f4f-3fb1-4ef2-97f2-285da1d9e959')\"\n",
              "            title=\"Suggest charts.\"\n",
              "            style=\"display:none;\">\n",
              "\n",
              "<svg xmlns=\"http://www.w3.org/2000/svg\" height=\"24px\"viewBox=\"0 0 24 24\"\n",
              "     width=\"24px\">\n",
              "    <g>\n",
              "        <path d=\"M19 3H5c-1.1 0-2 .9-2 2v14c0 1.1.9 2 2 2h14c1.1 0 2-.9 2-2V5c0-1.1-.9-2-2-2zM9 17H7v-7h2v7zm4 0h-2V7h2v10zm4 0h-2v-4h2v4z\"/>\n",
              "    </g>\n",
              "</svg>\n",
              "  </button>\n",
              "\n",
              "<style>\n",
              "  .colab-df-quickchart {\n",
              "      --bg-color: #E8F0FE;\n",
              "      --fill-color: #1967D2;\n",
              "      --hover-bg-color: #E2EBFA;\n",
              "      --hover-fill-color: #174EA6;\n",
              "      --disabled-fill-color: #AAA;\n",
              "      --disabled-bg-color: #DDD;\n",
              "  }\n",
              "\n",
              "  [theme=dark] .colab-df-quickchart {\n",
              "      --bg-color: #3B4455;\n",
              "      --fill-color: #D2E3FC;\n",
              "      --hover-bg-color: #434B5C;\n",
              "      --hover-fill-color: #FFFFFF;\n",
              "      --disabled-bg-color: #3B4455;\n",
              "      --disabled-fill-color: #666;\n",
              "  }\n",
              "\n",
              "  .colab-df-quickchart {\n",
              "    background-color: var(--bg-color);\n",
              "    border: none;\n",
              "    border-radius: 50%;\n",
              "    cursor: pointer;\n",
              "    display: none;\n",
              "    fill: var(--fill-color);\n",
              "    height: 32px;\n",
              "    padding: 0;\n",
              "    width: 32px;\n",
              "  }\n",
              "\n",
              "  .colab-df-quickchart:hover {\n",
              "    background-color: var(--hover-bg-color);\n",
              "    box-shadow: 0 1px 2px rgba(60, 64, 67, 0.3), 0 1px 3px 1px rgba(60, 64, 67, 0.15);\n",
              "    fill: var(--button-hover-fill-color);\n",
              "  }\n",
              "\n",
              "  .colab-df-quickchart-complete:disabled,\n",
              "  .colab-df-quickchart-complete:disabled:hover {\n",
              "    background-color: var(--disabled-bg-color);\n",
              "    fill: var(--disabled-fill-color);\n",
              "    box-shadow: none;\n",
              "  }\n",
              "\n",
              "  .colab-df-spinner {\n",
              "    border: 2px solid var(--fill-color);\n",
              "    border-color: transparent;\n",
              "    border-bottom-color: var(--fill-color);\n",
              "    animation:\n",
              "      spin 1s steps(1) infinite;\n",
              "  }\n",
              "\n",
              "  @keyframes spin {\n",
              "    0% {\n",
              "      border-color: transparent;\n",
              "      border-bottom-color: var(--fill-color);\n",
              "      border-left-color: var(--fill-color);\n",
              "    }\n",
              "    20% {\n",
              "      border-color: transparent;\n",
              "      border-left-color: var(--fill-color);\n",
              "      border-top-color: var(--fill-color);\n",
              "    }\n",
              "    30% {\n",
              "      border-color: transparent;\n",
              "      border-left-color: var(--fill-color);\n",
              "      border-top-color: var(--fill-color);\n",
              "      border-right-color: var(--fill-color);\n",
              "    }\n",
              "    40% {\n",
              "      border-color: transparent;\n",
              "      border-right-color: var(--fill-color);\n",
              "      border-top-color: var(--fill-color);\n",
              "    }\n",
              "    60% {\n",
              "      border-color: transparent;\n",
              "      border-right-color: var(--fill-color);\n",
              "    }\n",
              "    80% {\n",
              "      border-color: transparent;\n",
              "      border-right-color: var(--fill-color);\n",
              "      border-bottom-color: var(--fill-color);\n",
              "    }\n",
              "    90% {\n",
              "      border-color: transparent;\n",
              "      border-bottom-color: var(--fill-color);\n",
              "    }\n",
              "  }\n",
              "</style>\n",
              "\n",
              "  <script>\n",
              "    async function quickchart(key) {\n",
              "      const quickchartButtonEl =\n",
              "        document.querySelector('#' + key + ' button');\n",
              "      quickchartButtonEl.disabled = true;  // To prevent multiple clicks.\n",
              "      quickchartButtonEl.classList.add('colab-df-spinner');\n",
              "      try {\n",
              "        const charts = await google.colab.kernel.invokeFunction(\n",
              "            'suggestCharts', [key], {});\n",
              "      } catch (error) {\n",
              "        console.error('Error during call to suggestCharts:', error);\n",
              "      }\n",
              "      quickchartButtonEl.classList.remove('colab-df-spinner');\n",
              "      quickchartButtonEl.classList.add('colab-df-quickchart-complete');\n",
              "    }\n",
              "    (() => {\n",
              "      let quickchartButtonEl =\n",
              "        document.querySelector('#df-a02e7f4f-3fb1-4ef2-97f2-285da1d9e959 button');\n",
              "      quickchartButtonEl.style.display =\n",
              "        google.colab.kernel.accessAllowed ? 'block' : 'none';\n",
              "    })();\n",
              "  </script>\n",
              "</div>\n",
              "    </div>\n",
              "  </div>\n"
            ]
          },
          "metadata": {},
          "execution_count": 16
        }
      ]
    },
    {
      "cell_type": "code",
      "source": [
        "#Comprobamos balance del dataset\n",
        "data['TX_FRAUD'].value_counts()\n",
        "\n",
        "a, b = data['TX_FRAUD'].value_counts()\n",
        "plt.figure(figsize=(13,5))\n",
        "plt.subplot(121)\n",
        "plt.pie([a, b], labels=['Legitimate', 'Fraudulent'], autopct='%1.0f%%')\n",
        "print(data['TX_FRAUD'].value_counts())"
      ],
      "metadata": {
        "colab": {
          "base_uri": "https://localhost:8080/",
          "height": 474
        },
        "id": "XHFnz7Ez7-iV",
        "outputId": "d5b7745a-b090-4e01-837b-c4664353698f"
      },
      "execution_count": 17,
      "outputs": [
        {
          "output_type": "stream",
          "name": "stdout",
          "text": [
            "1    235969\n",
            "0    235969\n",
            "Name: TX_FRAUD, dtype: int64\n"
          ]
        },
        {
          "output_type": "display_data",
          "data": {
            "text/plain": [
              "<Figure size 1300x500 with 1 Axes>"
            ],
            "image/png": "[encoded data removed]"
          },
          "metadata": {}
        }
      ]
    },
    {
      "cell_type": "markdown",
      "source": [
        "Comprobamos que nuestro dataset data está balanceado y podemos proceder con el análisis."
      ],
      "metadata": {
        "id": "3PhnavNA78HK"
      }
    },
    {
      "cell_type": "markdown",
      "source": [
        "### Exploración Visual"
      ],
      "metadata": {
        "id": "Qzi70v50WcSb"
      }
    },
    {
      "cell_type": "code",
      "source": [
        "# Distribución de transacciones fraudulentas\n",
        "f=  plt.figure(figsize=(14,6))\n",
        "ax= f.add_subplot(121)\n",
        "sns.scatterplot (x= 'TERMINAL_ID', y= 'TX_AMOUNT', data= data, palette= 'magma', hue= 'TX_FRAUD', ax= ax)\n",
        "ax.set_title('Scatter plot - Terminal ID vs Transaction Amount')\n",
        "\n",
        "ax= f.add_subplot(122)\n",
        "sns.scatterplot(x= 'TX_TIME_SECONDS', y= 'TX_AMOUNT', data= data, palette= 'viridis', hue= 'TX_FRAUD')\n",
        "ax.set_title('Scatter plot - Transaction Amount vs Time in Seconds')\n",
        "plt.savefig('sc.png')"
      ],
      "metadata": {
        "colab": {
          "base_uri": "https://localhost:8080/",
          "height": 564
        },
        "id": "_n4DQQQCWfQ2",
        "outputId": "f3e83e58-52d7-4e09-ca8d-b3f9bf038ceb"
      },
      "execution_count": 18,
      "outputs": [
        {
          "output_type": "display_data",
          "data": {
            "text/plain": [
              "<Figure size 1400x600 with 2 Axes>"
            ],
            "image/png": "[encoded data removed]"
          },
          "metadata": {}
        }
      ]
    },
    {
      "cell_type": "markdown",
      "source": [
        "Podemos comprobar que las transacciones fraudulentas son generalmente pot valores altos, lo cual, nos da una perspectiva inicial de que sí una transacción es por un monto mayor al promedio, es probable que trate de un intento de fraude."
      ],
      "metadata": {
        "id": "q-wd-3E89T2t"
      }
    },
    {
      "cell_type": "code",
      "source": [
        "# Revisamos la correlación entre las variables\n",
        "corr= data.corr()\n",
        "plt.figure(figsize=(15,5))\n",
        "sns.heatmap(corr, annot= True);"
      ],
      "metadata": {
        "colab": {
          "base_uri": "https://localhost:8080/",
          "height": 643
        },
        "id": "oSlkjz6n9LE6",
        "outputId": "497caf07-fd6a-485f-c8a7-a92a63c26b20"
      },
      "execution_count": 19,
      "outputs": [
        {
          "output_type": "stream",
          "name": "stderr",
          "text": [
            "<ipython-input-19-db6a360eec86>:2: FutureWarning: The default value of numeric_only in DataFrame.corr is deprecated. In a future version, it will default to False. Select only valid columns or specify the value of numeric_only to silence this warning.\n",
            "  corr= data.corr()\n"
          ]
        },
        {
          "output_type": "display_data",
          "data": {
            "text/plain": [
              "<Figure size 1500x500 with 2 Axes>"
            ],
            "image/png": "[encoded data removed]"
          },
          "metadata": {}
        }
      ]
    },
    {
      "cell_type": "markdown",
      "source": [
        "Podmeos observar que existe un alta correlación con las variables 'TX_FRAUD_SCENARIO' y con 'TX_TIME_DAYS', por lo cual las necesitamos remover del dataset para evitar overfitting."
      ],
      "metadata": {
        "id": "a76iinbQAFId"
      }
    },
    {
      "cell_type": "code",
      "source": [
        "# Eliminamos las variables con correlación.\n",
        "data = data.drop(['TX_FRAUD_SCENARIO', 'TX_TIME_DAYS'], axis= 1)\n",
        "data.head()"
      ],
      "metadata": {
        "colab": {
          "base_uri": "https://localhost:8080/",
          "height": 206
        },
        "id": "uCazfTHJAlLf",
        "outputId": "641a05c3-16e1-4b0c-c877-380e39c74c88"
      },
      "execution_count": 18,
      "outputs": [
        {
          "output_type": "execute_result",
          "data": {
            "text/plain": [
              "   Unnamed: 0  TRANSACTION_ID          TX_DATETIME  CUSTOMER_ID  TERMINAL_ID  \\\n",
              "0           2               2  2023-01-01 00:07:56            2         1365   \n",
              "1          20              20  2023-01-01 00:21:09         1270          931   \n",
              "2          23              23  2023-01-01 00:25:24          508         9687   \n",
              "3          35              35  2023-01-01 00:31:51         1753         8676   \n",
              "4          43              43  2023-01-01 00:34:45         3425         2930   \n",
              "\n",
              "   TX_AMOUNT  TX_TIME_SECONDS  TX_FRAUD  \n",
              "0    1442.94              476         1  \n",
              "1    1378.62             1269         1  \n",
              "2    1376.93             1524         1  \n",
              "3    1145.15             1911         1  \n",
              "4    1177.45             2085         1  "
            ],
            "text/html": [
              "\n",
              "  <div id=\"df-5e175ae0-a693-4f1c-9319-f23692bc48bd\" class=\"colab-df-container\">\n",
              "    <div>\n",
              "<style scoped>\n",
              "    .dataframe tbody tr th:only-of-type {\n",
              "        vertical-align: middle;\n",
              "    }\n",
              "\n",
              "    .dataframe tbody tr th {\n",
              "        vertical-align: top;\n",
              "    }\n",
              "\n",
              "    .dataframe thead th {\n",
              "        text-align: right;\n",
              "    }\n",
              "</style>\n",
              "<table border=\"1\" class=\"dataframe\">\n",
              "  <thead>\n",
              "    <tr style=\"text-align: right;\">\n",
              "      <th></th>\n",
              "      <th>Unnamed: 0</th>\n",
              "      <th>TRANSACTION_ID</th>\n",
              "      <th>TX_DATETIME</th>\n",
              "      <th>CUSTOMER_ID</th>\n",
              "      <th>TERMINAL_ID</th>\n",
              "      <th>TX_AMOUNT</th>\n",
              "      <th>TX_TIME_SECONDS</th>\n",
              "      <th>TX_FRAUD</th>\n",
              "    </tr>\n",
              "  </thead>\n",
              "  <tbody>\n",
              "    <tr>\n",
              "      <th>0</th>\n",
              "      <td>2</td>\n",
              "      <td>2</td>\n",
              "      <td>2023-01-01 00:07:56</td>\n",
              "      <td>2</td>\n",
              "      <td>1365</td>\n",
              "      <td>1442.94</td>\n",
              "      <td>476</td>\n",
              "      <td>1</td>\n",
              "    </tr>\n",
              "    <tr>\n",
              "      <th>1</th>\n",
              "      <td>20</td>\n",
              "      <td>20</td>\n",
              "      <td>2023-01-01 00:21:09</td>\n",
              "      <td>1270</td>\n",
              "      <td>931</td>\n",
              "      <td>1378.62</td>\n",
              "      <td>1269</td>\n",
              "      <td>1</td>\n",
              "    </tr>\n",
              "    <tr>\n",
              "      <th>2</th>\n",
              "      <td>23</td>\n",
              "      <td>23</td>\n",
              "      <td>2023-01-01 00:25:24</td>\n",
              "      <td>508</td>\n",
              "      <td>9687</td>\n",
              "      <td>1376.93</td>\n",
              "      <td>1524</td>\n",
              "      <td>1</td>\n",
              "    </tr>\n",
              "    <tr>\n",
              "      <th>3</th>\n",
              "      <td>35</td>\n",
              "      <td>35</td>\n",
              "      <td>2023-01-01 00:31:51</td>\n",
              "      <td>1753</td>\n",
              "      <td>8676</td>\n",
              "      <td>1145.15</td>\n",
              "      <td>1911</td>\n",
              "      <td>1</td>\n",
              "    </tr>\n",
              "    <tr>\n",
              "      <th>4</th>\n",
              "      <td>43</td>\n",
              "      <td>43</td>\n",
              "      <td>2023-01-01 00:34:45</td>\n",
              "      <td>3425</td>\n",
              "      <td>2930</td>\n",
              "      <td>1177.45</td>\n",
              "      <td>2085</td>\n",
              "      <td>1</td>\n",
              "    </tr>\n",
              "  </tbody>\n",
              "</table>\n",
              "</div>\n",
              "    <div class=\"colab-df-buttons\">\n",
              "\n",
              "  <div class=\"colab-df-container\">\n",
              "    <button class=\"colab-df-convert\" onclick=\"convertToInteractive('df-5e175ae0-a693-4f1c-9319-f23692bc48bd')\"\n",
              "            title=\"Convert this dataframe to an interactive table.\"\n",
              "            style=\"display:none;\">\n",
              "\n",
              "  <svg xmlns=\"http://www.w3.org/2000/svg\" height=\"24px\" viewBox=\"0 -960 960 960\">\n",
              "    <path d=\"M120-120v-720h720v720H120Zm60-500h600v-160H180v160Zm220 220h160v-160H400v160Zm0 220h160v-160H400v160ZM180-400h160v-160H180v160Zm440 0h160v-160H620v160ZM180-180h160v-160H180v160Zm440 0h160v-160H620v160Z\"/>\n",
              "  </svg>\n",
              "    </button>\n",
              "\n",
              "  <style>\n",
              "    .colab-df-container {\n",
              "      display:flex;\n",
              "      gap: 12px;\n",
              "    }\n",
              "\n",
              "    .colab-df-convert {\n",
              "      background-color: #E8F0FE;\n",
              "      border: none;\n",
              "      border-radius: 50%;\n",
              "      cursor: pointer;\n",
              "      display: none;\n",
              "      fill: #1967D2;\n",
              "      height: 32px;\n",
              "      padding: 0 0 0 0;\n",
              "      width: 32px;\n",
              "    }\n",
              "\n",
              "    .colab-df-convert:hover {\n",
              "      background-color: #E2EBFA;\n",
              "      box-shadow: 0px 1px 2px rgba(60, 64, 67, 0.3), 0px 1px 3px 1px rgba(60, 64, 67, 0.15);\n",
              "      fill: #174EA6;\n",
              "    }\n",
              "\n",
              "    .colab-df-buttons div {\n",
              "      margin-bottom: 4px;\n",
              "    }\n",
              "\n",
              "    [theme=dark] .colab-df-convert {\n",
              "      background-color: #3B4455;\n",
              "      fill: #D2E3FC;\n",
              "    }\n",
              "\n",
              "    [theme=dark] .colab-df-convert:hover {\n",
              "      background-color: #434B5C;\n",
              "      box-shadow: 0px 1px 3px 1px rgba(0, 0, 0, 0.15);\n",
              "      filter: drop-shadow(0px 1px 2px rgba(0, 0, 0, 0.3));\n",
              "      fill: #FFFFFF;\n",
              "    }\n",
              "  </style>\n",
              "\n",
              "    <script>\n",
              "      const buttonEl =\n",
              "        document.querySelector('#df-5e175ae0-a693-4f1c-9319-f23692bc48bd button.colab-df-convert');\n",
              "      buttonEl.style.display =\n",
              "        google.colab.kernel.accessAllowed ? 'block' : 'none';\n",
              "\n",
              "      async function convertToInteractive(key) {\n",
              "        const element = document.querySelector('#df-5e175ae0-a693-4f1c-9319-f23692bc48bd');\n",
              "        const dataTable =\n",
              "          await google.colab.kernel.invokeFunction('convertToInteractive',\n",
              "                                                    [key], {});\n",
              "        if (!dataTable) return;\n",
              "\n",
              "        const docLinkHtml = 'Like what you see? Visit the ' +\n",
              "          '<a target=\"_blank\" href=https://colab.research.google.com/notebooks/data_table.ipynb>data table notebook</a>'\n",
              "          + ' to learn more about interactive tables.';\n",
              "        element.innerHTML = '';\n",
              "        dataTable['output_type'] = 'display_data';\n",
              "        await google.colab.output.renderOutput(dataTable, element);\n",
              "        const docLink = document.createElement('div');\n",
              "        docLink.innerHTML = docLinkHtml;\n",
              "        element.appendChild(docLink);\n",
              "      }\n",
              "    </script>\n",
              "  </div>\n",
              "\n",
              "\n",
              "<div id=\"df-a7142d9e-d77e-4435-b41e-ce8d0235bd97\">\n",
              "  <button class=\"colab-df-quickchart\" onclick=\"quickchart('df-a7142d9e-d77e-4435-b41e-ce8d0235bd97')\"\n",
              "            title=\"Suggest charts.\"\n",
              "            style=\"display:none;\">\n",
              "\n",
              "<svg xmlns=\"http://www.w3.org/2000/svg\" height=\"24px\"viewBox=\"0 0 24 24\"\n",
              "     width=\"24px\">\n",
              "    <g>\n",
              "        <path d=\"M19 3H5c-1.1 0-2 .9-2 2v14c0 1.1.9 2 2 2h14c1.1 0 2-.9 2-2V5c0-1.1-.9-2-2-2zM9 17H7v-7h2v7zm4 0h-2V7h2v10zm4 0h-2v-4h2v4z\"/>\n",
              "    </g>\n",
              "</svg>\n",
              "  </button>\n",
              "\n",
              "<style>\n",
              "  .colab-df-quickchart {\n",
              "      --bg-color: #E8F0FE;\n",
              "      --fill-color: #1967D2;\n",
              "      --hover-bg-color: #E2EBFA;\n",
              "      --hover-fill-color: #174EA6;\n",
              "      --disabled-fill-color: #AAA;\n",
              "      --disabled-bg-color: #DDD;\n",
              "  }\n",
              "\n",
              "  [theme=dark] .colab-df-quickchart {\n",
              "      --bg-color: #3B4455;\n",
              "      --fill-color: #D2E3FC;\n",
              "      --hover-bg-color: #434B5C;\n",
              "      --hover-fill-color: #FFFFFF;\n",
              "      --disabled-bg-color: #3B4455;\n",
              "      --disabled-fill-color: #666;\n",
              "  }\n",
              "\n",
              "  .colab-df-quickchart {\n",
              "    background-color: var(--bg-color);\n",
              "    border: none;\n",
              "    border-radius: 50%;\n",
              "    cursor: pointer;\n",
              "    display: none;\n",
              "    fill: var(--fill-color);\n",
              "    height: 32px;\n",
              "    padding: 0;\n",
              "    width: 32px;\n",
              "  }\n",
              "\n",
              "  .colab-df-quickchart:hover {\n",
              "    background-color: var(--hover-bg-color);\n",
              "    box-shadow: 0 1px 2px rgba(60, 64, 67, 0.3), 0 1px 3px 1px rgba(60, 64, 67, 0.15);\n",
              "    fill: var(--button-hover-fill-color);\n",
              "  }\n",
              "\n",
              "  .colab-df-quickchart-complete:disabled,\n",
              "  .colab-df-quickchart-complete:disabled:hover {\n",
              "    background-color: var(--disabled-bg-color);\n",
              "    fill: var(--disabled-fill-color);\n",
              "    box-shadow: none;\n",
              "  }\n",
              "\n",
              "  .colab-df-spinner {\n",
              "    border: 2px solid var(--fill-color);\n",
              "    border-color: transparent;\n",
              "    border-bottom-color: var(--fill-color);\n",
              "    animation:\n",
              "      spin 1s steps(1) infinite;\n",
              "  }\n",
              "\n",
              "  @keyframes spin {\n",
              "    0% {\n",
              "      border-color: transparent;\n",
              "      border-bottom-color: var(--fill-color);\n",
              "      border-left-color: var(--fill-color);\n",
              "    }\n",
              "    20% {\n",
              "      border-color: transparent;\n",
              "      border-left-color: var(--fill-color);\n",
              "      border-top-color: var(--fill-color);\n",
              "    }\n",
              "    30% {\n",
              "      border-color: transparent;\n",
              "      border-left-color: var(--fill-color);\n",
              "      border-top-color: var(--fill-color);\n",
              "      border-right-color: var(--fill-color);\n",
              "    }\n",
              "    40% {\n",
              "      border-color: transparent;\n",
              "      border-right-color: var(--fill-color);\n",
              "      border-top-color: var(--fill-color);\n",
              "    }\n",
              "    60% {\n",
              "      border-color: transparent;\n",
              "      border-right-color: var(--fill-color);\n",
              "    }\n",
              "    80% {\n",
              "      border-color: transparent;\n",
              "      border-right-color: var(--fill-color);\n",
              "      border-bottom-color: var(--fill-color);\n",
              "    }\n",
              "    90% {\n",
              "      border-color: transparent;\n",
              "      border-bottom-color: var(--fill-color);\n",
              "    }\n",
              "  }\n",
              "</style>\n",
              "\n",
              "  <script>\n",
              "    async function quickchart(key) {\n",
              "      const quickchartButtonEl =\n",
              "        document.querySelector('#' + key + ' button');\n",
              "      quickchartButtonEl.disabled = true;  // To prevent multiple clicks.\n",
              "      quickchartButtonEl.classList.add('colab-df-spinner');\n",
              "      try {\n",
              "        const charts = await google.colab.kernel.invokeFunction(\n",
              "            'suggestCharts', [key], {});\n",
              "      } catch (error) {\n",
              "        console.error('Error during call to suggestCharts:', error);\n",
              "      }\n",
              "      quickchartButtonEl.classList.remove('colab-df-spinner');\n",
              "      quickchartButtonEl.classList.add('colab-df-quickchart-complete');\n",
              "    }\n",
              "    (() => {\n",
              "      let quickchartButtonEl =\n",
              "        document.querySelector('#df-a7142d9e-d77e-4435-b41e-ce8d0235bd97 button');\n",
              "      quickchartButtonEl.style.display =\n",
              "        google.colab.kernel.accessAllowed ? 'block' : 'none';\n",
              "    })();\n",
              "  </script>\n",
              "</div>\n",
              "    </div>\n",
              "  </div>\n"
            ]
          },
          "metadata": {},
          "execution_count": 18
        }
      ]
    },
    {
      "cell_type": "code",
      "source": [
        "# Eliminamos el resto de variables que no aportan valor al modelo\n",
        "data = data.drop(['Unnamed: 0', 'TRANSACTION_ID', 'TX_DATETIME'], axis=1)\n",
        "data.head()"
      ],
      "metadata": {
        "colab": {
          "base_uri": "https://localhost:8080/",
          "height": 206
        },
        "id": "AyEvLRt6CcXz",
        "outputId": "7f0121bf-5b41-41f4-df63-db90080fcce7"
      },
      "execution_count": 19,
      "outputs": [
        {
          "output_type": "execute_result",
          "data": {
            "text/plain": [
              "   CUSTOMER_ID  TERMINAL_ID  TX_AMOUNT  TX_TIME_SECONDS  TX_FRAUD\n",
              "0            2         1365    1442.94              476         1\n",
              "1         1270          931    1378.62             1269         1\n",
              "2          508         9687    1376.93             1524         1\n",
              "3         1753         8676    1145.15             1911         1\n",
              "4         3425         2930    1177.45             2085         1"
            ],
            "text/html": [
              "\n",
              "  <div id=\"df-dd6f048d-0135-453b-8b7d-0d9132496c0e\" class=\"colab-df-container\">\n",
              "    <div>\n",
              "<style scoped>\n",
              "    .dataframe tbody tr th:only-of-type {\n",
              "        vertical-align: middle;\n",
              "    }\n",
              "\n",
              "    .dataframe tbody tr th {\n",
              "        vertical-align: top;\n",
              "    }\n",
              "\n",
              "    .dataframe thead th {\n",
              "        text-align: right;\n",
              "    }\n",
              "</style>\n",
              "<table border=\"1\" class=\"dataframe\">\n",
              "  <thead>\n",
              "    <tr style=\"text-align: right;\">\n",
              "      <th></th>\n",
              "      <th>CUSTOMER_ID</th>\n",
              "      <th>TERMINAL_ID</th>\n",
              "      <th>TX_AMOUNT</th>\n",
              "      <th>TX_TIME_SECONDS</th>\n",
              "      <th>TX_FRAUD</th>\n",
              "    </tr>\n",
              "  </thead>\n",
              "  <tbody>\n",
              "    <tr>\n",
              "      <th>0</th>\n",
              "      <td>2</td>\n",
              "      <td>1365</td>\n",
              "      <td>1442.94</td>\n",
              "      <td>476</td>\n",
              "      <td>1</td>\n",
              "    </tr>\n",
              "    <tr>\n",
              "      <th>1</th>\n",
              "      <td>1270</td>\n",
              "      <td>931</td>\n",
              "      <td>1378.62</td>\n",
              "      <td>1269</td>\n",
              "      <td>1</td>\n",
              "    </tr>\n",
              "    <tr>\n",
              "      <th>2</th>\n",
              "      <td>508</td>\n",
              "      <td>9687</td>\n",
              "      <td>1376.93</td>\n",
              "      <td>1524</td>\n",
              "      <td>1</td>\n",
              "    </tr>\n",
              "    <tr>\n",
              "      <th>3</th>\n",
              "      <td>1753</td>\n",
              "      <td>8676</td>\n",
              "      <td>1145.15</td>\n",
              "      <td>1911</td>\n",
              "      <td>1</td>\n",
              "    </tr>\n",
              "    <tr>\n",
              "      <th>4</th>\n",
              "      <td>3425</td>\n",
              "      <td>2930</td>\n",
              "      <td>1177.45</td>\n",
              "      <td>2085</td>\n",
              "      <td>1</td>\n",
              "    </tr>\n",
              "  </tbody>\n",
              "</table>\n",
              "</div>\n",
              "    <div class=\"colab-df-buttons\">\n",
              "\n",
              "  <div class=\"colab-df-container\">\n",
              "    <button class=\"colab-df-convert\" onclick=\"convertToInteractive('df-dd6f048d-0135-453b-8b7d-0d9132496c0e')\"\n",
              "            title=\"Convert this dataframe to an interactive table.\"\n",
              "            style=\"display:none;\">\n",
              "\n",
              "  <svg xmlns=\"http://www.w3.org/2000/svg\" height=\"24px\" viewBox=\"0 -960 960 960\">\n",
              "    <path d=\"M120-120v-720h720v720H120Zm60-500h600v-160H180v160Zm220 220h160v-160H400v160Zm0 220h160v-160H400v160ZM180-400h160v-160H180v160Zm440 0h160v-160H620v160ZM180-180h160v-160H180v160Zm440 0h160v-160H620v160Z\"/>\n",
              "  </svg>\n",
              "    </button>\n",
              "\n",
              "  <style>\n",
              "    .colab-df-container {\n",
              "      display:flex;\n",
              "      gap: 12px;\n",
              "    }\n",
              "\n",
              "    .colab-df-convert {\n",
              "      background-color: #E8F0FE;\n",
              "      border: none;\n",
              "      border-radius: 50%;\n",
              "      cursor: pointer;\n",
              "      display: none;\n",
              "      fill: #1967D2;\n",
              "      height: 32px;\n",
              "      padding: 0 0 0 0;\n",
              "      width: 32px;\n",
              "    }\n",
              "\n",
              "    .colab-df-convert:hover {\n",
              "      background-color: #E2EBFA;\n",
              "      box-shadow: 0px 1px 2px rgba(60, 64, 67, 0.3), 0px 1px 3px 1px rgba(60, 64, 67, 0.15);\n",
              "      fill: #174EA6;\n",
              "    }\n",
              "\n",
              "    .colab-df-buttons div {\n",
              "      margin-bottom: 4px;\n",
              "    }\n",
              "\n",
              "    [theme=dark] .colab-df-convert {\n",
              "      background-color: #3B4455;\n",
              "      fill: #D2E3FC;\n",
              "    }\n",
              "\n",
              "    [theme=dark] .colab-df-convert:hover {\n",
              "      background-color: #434B5C;\n",
              "      box-shadow: 0px 1px 3px 1px rgba(0, 0, 0, 0.15);\n",
              "      filter: drop-shadow(0px 1px 2px rgba(0, 0, 0, 0.3));\n",
              "      fill: #FFFFFF;\n",
              "    }\n",
              "  </style>\n",
              "\n",
              "    <script>\n",
              "      const buttonEl =\n",
              "        document.querySelector('#df-dd6f048d-0135-453b-8b7d-0d9132496c0e button.colab-df-convert');\n",
              "      buttonEl.style.display =\n",
              "        google.colab.kernel.accessAllowed ? 'block' : 'none';\n",
              "\n",
              "      async function convertToInteractive(key) {\n",
              "        const element = document.querySelector('#df-dd6f048d-0135-453b-8b7d-0d9132496c0e');\n",
              "        const dataTable =\n",
              "          await google.colab.kernel.invokeFunction('convertToInteractive',\n",
              "                                                    [key], {});\n",
              "        if (!dataTable) return;\n",
              "\n",
              "        const docLinkHtml = 'Like what you see? Visit the ' +\n",
              "          '<a target=\"_blank\" href=https://colab.research.google.com/notebooks/data_table.ipynb>data table notebook</a>'\n",
              "          + ' to learn more about interactive tables.';\n",
              "        element.innerHTML = '';\n",
              "        dataTable['output_type'] = 'display_data';\n",
              "        await google.colab.output.renderOutput(dataTable, element);\n",
              "        const docLink = document.createElement('div');\n",
              "        docLink.innerHTML = docLinkHtml;\n",
              "        element.appendChild(docLink);\n",
              "      }\n",
              "    </script>\n",
              "  </div>\n",
              "\n",
              "\n",
              "<div id=\"df-ca1fad24-cd22-49d7-9027-020df4b47fc2\">\n",
              "  <button class=\"colab-df-quickchart\" onclick=\"quickchart('df-ca1fad24-cd22-49d7-9027-020df4b47fc2')\"\n",
              "            title=\"Suggest charts.\"\n",
              "            style=\"display:none;\">\n",
              "\n",
              "<svg xmlns=\"http://www.w3.org/2000/svg\" height=\"24px\"viewBox=\"0 0 24 24\"\n",
              "     width=\"24px\">\n",
              "    <g>\n",
              "        <path d=\"M19 3H5c-1.1 0-2 .9-2 2v14c0 1.1.9 2 2 2h14c1.1 0 2-.9 2-2V5c0-1.1-.9-2-2-2zM9 17H7v-7h2v7zm4 0h-2V7h2v10zm4 0h-2v-4h2v4z\"/>\n",
              "    </g>\n",
              "</svg>\n",
              "  </button>\n",
              "\n",
              "<style>\n",
              "  .colab-df-quickchart {\n",
              "      --bg-color: #E8F0FE;\n",
              "      --fill-color: #1967D2;\n",
              "      --hover-bg-color: #E2EBFA;\n",
              "      --hover-fill-color: #174EA6;\n",
              "      --disabled-fill-color: #AAA;\n",
              "      --disabled-bg-color: #DDD;\n",
              "  }\n",
              "\n",
              "  [theme=dark] .colab-df-quickchart {\n",
              "      --bg-color: #3B4455;\n",
              "      --fill-color: #D2E3FC;\n",
              "      --hover-bg-color: #434B5C;\n",
              "      --hover-fill-color: #FFFFFF;\n",
              "      --disabled-bg-color: #3B4455;\n",
              "      --disabled-fill-color: #666;\n",
              "  }\n",
              "\n",
              "  .colab-df-quickchart {\n",
              "    background-color: var(--bg-color);\n",
              "    border: none;\n",
              "    border-radius: 50%;\n",
              "    cursor: pointer;\n",
              "    display: none;\n",
              "    fill: var(--fill-color);\n",
              "    height: 32px;\n",
              "    padding: 0;\n",
              "    width: 32px;\n",
              "  }\n",
              "\n",
              "  .colab-df-quickchart:hover {\n",
              "    background-color: var(--hover-bg-color);\n",
              "    box-shadow: 0 1px 2px rgba(60, 64, 67, 0.3), 0 1px 3px 1px rgba(60, 64, 67, 0.15);\n",
              "    fill: var(--button-hover-fill-color);\n",
              "  }\n",
              "\n",
              "  .colab-df-quickchart-complete:disabled,\n",
              "  .colab-df-quickchart-complete:disabled:hover {\n",
              "    background-color: var(--disabled-bg-color);\n",
              "    fill: var(--disabled-fill-color);\n",
              "    box-shadow: none;\n",
              "  }\n",
              "\n",
              "  .colab-df-spinner {\n",
              "    border: 2px solid var(--fill-color);\n",
              "    border-color: transparent;\n",
              "    border-bottom-color: var(--fill-color);\n",
              "    animation:\n",
              "      spin 1s steps(1) infinite;\n",
              "  }\n",
              "\n",
              "  @keyframes spin {\n",
              "    0% {\n",
              "      border-color: transparent;\n",
              "      border-bottom-color: var(--fill-color);\n",
              "      border-left-color: var(--fill-color);\n",
              "    }\n",
              "    20% {\n",
              "      border-color: transparent;\n",
              "      border-left-color: var(--fill-color);\n",
              "      border-top-color: var(--fill-color);\n",
              "    }\n",
              "    30% {\n",
              "      border-color: transparent;\n",
              "      border-left-color: var(--fill-color);\n",
              "      border-top-color: var(--fill-color);\n",
              "      border-right-color: var(--fill-color);\n",
              "    }\n",
              "    40% {\n",
              "      border-color: transparent;\n",
              "      border-right-color: var(--fill-color);\n",
              "      border-top-color: var(--fill-color);\n",
              "    }\n",
              "    60% {\n",
              "      border-color: transparent;\n",
              "      border-right-color: var(--fill-color);\n",
              "    }\n",
              "    80% {\n",
              "      border-color: transparent;\n",
              "      border-right-color: var(--fill-color);\n",
              "      border-bottom-color: var(--fill-color);\n",
              "    }\n",
              "    90% {\n",
              "      border-color: transparent;\n",
              "      border-bottom-color: var(--fill-color);\n",
              "    }\n",
              "  }\n",
              "</style>\n",
              "\n",
              "  <script>\n",
              "    async function quickchart(key) {\n",
              "      const quickchartButtonEl =\n",
              "        document.querySelector('#' + key + ' button');\n",
              "      quickchartButtonEl.disabled = true;  // To prevent multiple clicks.\n",
              "      quickchartButtonEl.classList.add('colab-df-spinner');\n",
              "      try {\n",
              "        const charts = await google.colab.kernel.invokeFunction(\n",
              "            'suggestCharts', [key], {});\n",
              "      } catch (error) {\n",
              "        console.error('Error during call to suggestCharts:', error);\n",
              "      }\n",
              "      quickchartButtonEl.classList.remove('colab-df-spinner');\n",
              "      quickchartButtonEl.classList.add('colab-df-quickchart-complete');\n",
              "    }\n",
              "    (() => {\n",
              "      let quickchartButtonEl =\n",
              "        document.querySelector('#df-ca1fad24-cd22-49d7-9027-020df4b47fc2 button');\n",
              "      quickchartButtonEl.style.display =\n",
              "        google.colab.kernel.accessAllowed ? 'block' : 'none';\n",
              "    })();\n",
              "  </script>\n",
              "</div>\n",
              "    </div>\n",
              "  </div>\n"
            ]
          },
          "metadata": {},
          "execution_count": 19
        }
      ]
    },
    {
      "cell_type": "markdown",
      "source": [
        "## Fase 3. Preprocesamiento de los datos"
      ],
      "metadata": {
        "id": "BRuqJQo_GJa0"
      }
    },
    {
      "cell_type": "code",
      "source": [
        "# Dividimos nuestros datos de entrenamiento y test\n",
        "X = data.drop('TX_FRAUD', axis=1)\n",
        "y = data['TX_FRAUD']\n",
        "\n",
        "X_train, X_test, y_train, y_test = train_test_split(X, y, test_size=0.2, random_state=0)"
      ],
      "metadata": {
        "id": "kQvpokG8GQHS"
      },
      "execution_count": 20,
      "outputs": []
    },
    {
      "cell_type": "code",
      "source": [
        "X_train.shape, X_test.shape"
      ],
      "metadata": {
        "colab": {
          "base_uri": "https://localhost:8080/"
        },
        "id": "iiKar7XrH1xx",
        "outputId": "63ebb6f1-3b65-42c6-a6e8-869186b9f1b9"
      },
      "execution_count": 21,
      "outputs": [
        {
          "output_type": "execute_result",
          "data": {
            "text/plain": [
              "((377550, 4), (94388, 4))"
            ]
          },
          "metadata": {},
          "execution_count": 21
        }
      ]
    },
    {
      "cell_type": "code",
      "source": [
        "# Realizamos la normalización de los valores utilizando StandardScaler()\n",
        "scaler = StandardScaler()\n",
        "X_train = scaler.fit_transform(X_train)\n",
        "X_test = scaler.transform(X_test)"
      ],
      "metadata": {
        "id": "J7XXRQuTH-ES"
      },
      "execution_count": 22,
      "outputs": []
    },
    {
      "cell_type": "code",
      "source": [
        "# Transformamos los valores de 'y' a formato numpy\n",
        "y_train = y_train.to_numpy()\n",
        "y_test = y_test.to_numpy()"
      ],
      "metadata": {
        "id": "g6W_5wTgIjpQ"
      },
      "execution_count": 23,
      "outputs": []
    },
    {
      "cell_type": "code",
      "source": [
        "# Redimensionamos los conjuntos de train y test para poder trabajar con las redes neuronales convolucionales\n",
        "X_train = X_train.reshape(X_train.shape[0], X_train.shape[1], 1)\n",
        "X_test = X_test.reshape(X_test.shape[0], X_test.shape[1], 1)\n",
        "\n",
        "X_train.shape, X_test.shape"
      ],
      "metadata": {
        "colab": {
          "base_uri": "https://localhost:8080/"
        },
        "id": "KL56p_RoI_vP",
        "outputId": "a8a4ec18-8c21-4e48-87d1-2bfddb7bd5a0"
      },
      "execution_count": 24,
      "outputs": [
        {
          "output_type": "execute_result",
          "data": {
            "text/plain": [
              "((377550, 4, 1), (94388, 4, 1))"
            ]
          },
          "metadata": {},
          "execution_count": 24
        }
      ]
    },
    {
      "cell_type": "markdown",
      "source": [
        "### Construimos la Red Neuronal Convolucional"
      ],
      "metadata": {
        "id": "lXMepOXqKew7"
      }
    },
    {
      "cell_type": "code",
      "source": [
        "# Creamos la arquitectura\n",
        "model = tf.keras.models.Sequential([\n",
        "    tf.keras.layers.Conv1D(64, 2, padding= 'same', activation= 'relu', input_shape= X_train[0].shape),\n",
        "    tf.keras.layers.MaxPool1D(2, strides= 2, padding= 'same'),\n",
        "    tf.keras.layers.Conv1D(32, 3, padding= 'same', activation= 'relu'),\n",
        "    tf.keras.layers.MaxPool1D(2, strides= 2, padding= 'same'),\n",
        "    tf.keras.layers.Conv1D(32, 3, padding= 'same', activation= 'relu'),\n",
        "    tf.keras.layers.MaxPool1D(2, strides= 2, padding= 'same'),\n",
        "    tf.keras.layers.Flatten(),\n",
        "    tf.keras.layers.Dense(64, activation= 'relu'),\n",
        "    tf.keras.layers.Dropout(0.75),\n",
        "    tf.keras.layers.Dense(32, activation= 'relu'),\n",
        "    tf.keras.layers.Dense(32, activation= 'relu'),\n",
        "    tf.keras.layers.Dropout(0.6),\n",
        "    tf.keras.layers.Dense(1, activation= 'sigmoid')\n",
        "])"
      ],
      "metadata": {
        "id": "fZkD1k3tLNM7"
      },
      "execution_count": 25,
      "outputs": []
    },
    {
      "cell_type": "code",
      "source": [
        "# Definimos el optimizer\n",
        "opt = tf.keras.optimizers.Adam(learning_rate= 0.0001)\n",
        "\n",
        "# Compilamos el modelo\n",
        "model.compile(optimizer= opt,\n",
        "              loss= 'binary_crossentropy',\n",
        "              metrics= ['accuracy'])\n",
        "\n",
        "#Entrenamos el modelo\n",
        "hist = model.fit(X_train, y_train, validation_split= 0.2, epochs=20)"
      ],
      "metadata": {
        "colab": {
          "base_uri": "https://localhost:8080/"
        },
        "id": "bXqYRSUDnf6E",
        "outputId": "c83184ca-161c-4162-cf17-537470316d94"
      },
      "execution_count": 26,
      "outputs": [
        {
          "output_type": "stream",
          "name": "stdout",
          "text": [
            "Epoch 1/20\n",
            "9439/9439 [==============================] - 75s 7ms/step - loss: 0.2148 - accuracy: 0.9289 - val_loss: 0.1496 - val_accuracy: 0.9437\n",
            "Epoch 2/20\n",
            "9439/9439 [==============================] - 96s 10ms/step - loss: 0.1239 - accuracy: 0.9709 - val_loss: 0.1040 - val_accuracy: 0.9735\n",
            "Epoch 3/20\n",
            "9439/9439 [==============================] - 73s 8ms/step - loss: 0.1143 - accuracy: 0.9724 - val_loss: 0.0868 - val_accuracy: 0.9784\n",
            "Epoch 4/20\n",
            "9439/9439 [==============================] - 70s 7ms/step - loss: 0.1103 - accuracy: 0.9731 - val_loss: 0.0990 - val_accuracy: 0.9736\n",
            "Epoch 5/20\n",
            "9439/9439 [==============================] - 64s 7ms/step - loss: 0.1082 - accuracy: 0.9733 - val_loss: 0.0888 - val_accuracy: 0.9770\n",
            "Epoch 6/20\n",
            "9439/9439 [==============================] - 64s 7ms/step - loss: 0.1062 - accuracy: 0.9734 - val_loss: 0.0869 - val_accuracy: 0.9786\n",
            "Epoch 7/20\n",
            "9439/9439 [==============================] - 64s 7ms/step - loss: 0.1046 - accuracy: 0.9738 - val_loss: 0.1138 - val_accuracy: 0.9685\n",
            "Epoch 8/20\n",
            "9439/9439 [==============================] - 66s 7ms/step - loss: 0.1039 - accuracy: 0.9740 - val_loss: 0.0990 - val_accuracy: 0.9715\n",
            "Epoch 9/20\n",
            "9439/9439 [==============================] - 61s 6ms/step - loss: 0.1034 - accuracy: 0.9740 - val_loss: 0.0851 - val_accuracy: 0.9782\n",
            "Epoch 10/20\n",
            "9439/9439 [==============================] - 62s 7ms/step - loss: 0.1024 - accuracy: 0.9740 - val_loss: 0.0832 - val_accuracy: 0.9795\n",
            "Epoch 11/20\n",
            "9439/9439 [==============================] - 66s 7ms/step - loss: 0.1022 - accuracy: 0.9738 - val_loss: 0.0910 - val_accuracy: 0.9754\n",
            "Epoch 12/20\n",
            "9439/9439 [==============================] - 63s 7ms/step - loss: 0.1018 - accuracy: 0.9739 - val_loss: 0.0835 - val_accuracy: 0.9792\n",
            "Epoch 13/20\n",
            "9439/9439 [==============================] - 66s 7ms/step - loss: 0.1012 - accuracy: 0.9741 - val_loss: 0.0909 - val_accuracy: 0.9760\n",
            "Epoch 14/20\n",
            "9439/9439 [==============================] - 66s 7ms/step - loss: 0.1007 - accuracy: 0.9743 - val_loss: 0.0830 - val_accuracy: 0.9807\n",
            "Epoch 15/20\n",
            "9439/9439 [==============================] - 67s 7ms/step - loss: 0.1003 - accuracy: 0.9743 - val_loss: 0.0821 - val_accuracy: 0.9801\n",
            "Epoch 16/20\n",
            "9439/9439 [==============================] - 60s 6ms/step - loss: 0.0996 - accuracy: 0.9745 - val_loss: 0.0889 - val_accuracy: 0.9765\n",
            "Epoch 17/20\n",
            "9439/9439 [==============================] - 65s 7ms/step - loss: 0.1002 - accuracy: 0.9746 - val_loss: 0.0921 - val_accuracy: 0.9756\n",
            "Epoch 18/20\n",
            "9439/9439 [==============================] - 60s 6ms/step - loss: 0.0991 - accuracy: 0.9746 - val_loss: 0.0815 - val_accuracy: 0.9806\n",
            "Epoch 19/20\n",
            "9439/9439 [==============================] - 59s 6ms/step - loss: 0.0993 - accuracy: 0.9743 - val_loss: 0.0859 - val_accuracy: 0.9781\n",
            "Epoch 20/20\n",
            "9439/9439 [==============================] - 60s 6ms/step - loss: 0.0992 - accuracy: 0.9744 - val_loss: 0.0985 - val_accuracy: 0.9752\n"
          ]
        }
      ]
    },
    {
      "cell_type": "markdown",
      "source": [
        "### Evaluamos el modelo"
      ],
      "metadata": {
        "id": "iyV7j7vDsbL1"
      }
    },
    {
      "cell_type": "code",
      "source": [
        "# Utilizamos la función evaluate()\n",
        "model.evaluate(X_test, y_test)\n",
        "\n",
        "# Visualizamos la gráfica\n",
        "fig=plt.figure(figsize=(60, 40))\n",
        "\n",
        "# Error\n",
        "fig.add_subplot(10, 10, 2)\n",
        "plt.plot(hist.history['loss'], label='loss')\n",
        "plt.plot(hist.history['val_loss'], label='val_loss')\n",
        "\n",
        "# Precisión\n",
        "fig.add_subplot(10, 10, 1)\n",
        "plt.plot(hist.history['accuracy'], label='acc')\n",
        "plt.plot(hist.history['val_accuracy'], label='val_acc')\n",
        "plt.legend()\n",
        "\n",
        "plt.legend()"
      ],
      "metadata": {
        "colab": {
          "base_uri": "https://localhost:8080/",
          "height": 359
        },
        "id": "GlKcxxCxr1lp",
        "outputId": "cab6eecd-8220-41e2-9111-9e3d045ab3d4"
      },
      "execution_count": 27,
      "outputs": [
        {
          "output_type": "stream",
          "name": "stdout",
          "text": [
            "2950/2950 [==============================] - 18s 6ms/step - loss: 0.1023 - accuracy: 0.9746\n"
          ]
        },
        {
          "output_type": "execute_result",
          "data": {
            "text/plain": [
              "<matplotlib.legend.Legend at 0x7be008497850>"
            ]
          },
          "metadata": {},
          "execution_count": 27
        },
        {
          "output_type": "display_data",
          "data": {
            "text/plain": [
              "<Figure size 6000x4000 with 2 Axes>"
            ],
            "image/png": "[encoded data removed]"
          },
          "metadata": {}
        }
      ]
    },
    {
      "cell_type": "markdown",
      "source": [
        "Después de entrenar y evaluar el modelo, observamos que se obtuvo un **accuracy del 97.46%** por lo que se puede concluir que el modelo es eficiente y funcional para realizar detecciones de transacciones fraudulentas, con una muy pequeña tasa de error."
      ],
      "metadata": {
        "id": "spWgRfjre4RL"
      }
    },
    {
      "cell_type": "code",
      "source": [
        "# Guardamos nuestro modelo entrenado con el fin de utilizarlo en una página web.\n",
        "tf.keras.models.save_model(model, 'cnn_model.hdf5')"
      ],
      "metadata": {
        "colab": {
          "base_uri": "https://localhost:8080/"
        },
        "id": "pYurx6x_gCza",
        "outputId": "d32a14a8-f6db-4dd3-d8a3-9fa332d0f41d"
      },
      "execution_count": 28,
      "outputs": [
        {
          "output_type": "stream",
          "name": "stderr",
          "text": [
            "<ipython-input-28-f899b0a380da>:2: UserWarning: You are saving your model as an HDF5 file via `model.save()`. This file format is considered legacy. We recommend using instead the native Keras format, e.g. `model.save('my_model.keras')`.\n",
            "  tf.keras.models.save_model(model, 'cnn_model.hdf5')\n"
          ]
        }
      ]
    }
  ]
}